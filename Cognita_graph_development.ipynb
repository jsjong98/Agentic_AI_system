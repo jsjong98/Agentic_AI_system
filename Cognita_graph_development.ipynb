{
 "cells": [
  {
   "cell_type": "code",
   "execution_count": 8,
   "id": "c7f23e45",
   "metadata": {},
   "outputs": [
    {
     "name": "stdout",
     "output_type": "stream",
     "text": [
      "Neo4j 연결 설정:\n",
      "1. Neo4j Desktop 또는 Neo4j Community Server가 실행 중이어야 합니다\n",
      "2. 아래 설정을 실제 환경에 맞게 수정하세요:\n",
      "   - URI: bolt://54.162.43.24:7687\n",
      "   - Username: neo4j\n",
      "   - Password: resident-success-moss\n",
      "\n",
      "주의: 비밀번호를 실제 Neo4j 비밀번호로 변경하세요!\n"
     ]
    }
   ],
   "source": [
    "# ------------------------------------------------------\n",
    "# Neo4j 그래프 데이터베이스 생성 시스템\n",
    "# ------------------------------------------------------\n",
    "\n",
    "# 필요한 라이브러리 설치 (처음 실행시)\n",
    "# !pip install neo4j pandas xmltodict\n",
    "\n",
    "import xml.etree.ElementTree as ET\n",
    "import pandas as pd\n",
    "import json\n",
    "from neo4j import GraphDatabase\n",
    "from pathlib import Path\n",
    "import logging\n",
    "from datetime import datetime\n",
    "import xmltodict\n",
    "\n",
    "# 로깅 설정\n",
    "logging.basicConfig(level=logging.INFO)\n",
    "logger = logging.getLogger(__name__)\n",
    "\n",
    "# 파일 경로\n",
    "XML_FILE_PATH = Path(\"./data/employee_relationships.xml\")\n",
    "\n",
    "# Neo4j 연결 설정\n",
    "NEO4J_CONFIG = {\n",
    "    \"uri\": \"bolt://54.162.43.24:7687\",            # Neo4j 기본 포트\n",
    "    \"username\": \"neo4j\",                            # 기본 사용자명\n",
    "    \"password\": \"resident-success-moss\"           # 설치시 설정한 비밀번호로 변경 필요\n",
    "}\n",
    "\n",
    "class Neo4jManager:\n",
    "    \"\"\"Neo4j 데이터베이스 연결 및 관리 클래스 (연결 복구 기능 추가)\"\"\"\n",
    "    \n",
    "    def __init__(self, uri, username, password):\n",
    "        self.uri = uri\n",
    "        self.username = username\n",
    "        self.password = password\n",
    "        self.driver = None\n",
    "        self._connect()\n",
    "    \n",
    "    def _connect(self):\n",
    "        \"\"\"Neo4j 연결 설정\"\"\"\n",
    "        try:\n",
    "            # 연결 풀 설정 추가 (안정성 향상)\n",
    "            self.driver = GraphDatabase.driver(\n",
    "                self.uri, \n",
    "                auth=(self.username, self.password),\n",
    "                max_connection_lifetime=3600,  # 1시간\n",
    "                max_connection_pool_size=50,   # 연결 풀 크기\n",
    "                connection_acquisition_timeout=60  # 연결 획득 타임아웃\n",
    "            )\n",
    "            logger.info(\"Neo4j 연결 성공\")\n",
    "            \n",
    "            # 연결 테스트\n",
    "            with self.driver.session() as session:\n",
    "                result = session.run(\"RETURN 1\")\n",
    "                logger.info(\"Neo4j 서버 응답 확인\")\n",
    "                \n",
    "        except Exception as e:\n",
    "            logger.error(f\"Neo4j 연결 실패: {str(e)}\")\n",
    "            raise\n",
    "    \n",
    "    def verify_connection(self):\n",
    "        \"\"\"연결 상태 확인 및 복구\"\"\"\n",
    "        try:\n",
    "            self.driver.verify_connectivity()\n",
    "            return True\n",
    "        except Exception as e:\n",
    "            logger.warning(f\"연결 확인 실패: {str(e)}\")\n",
    "            try:\n",
    "                logger.info(\"연결 재설정 시도...\")\n",
    "                if self.driver:\n",
    "                    self.driver.close()\n",
    "                self._connect()\n",
    "                return True\n",
    "            except Exception as reconnect_error:\n",
    "                logger.error(f\"연결 재설정 실패: {str(reconnect_error)}\")\n",
    "                return False\n",
    "    \n",
    "    def close(self):\n",
    "        if self.driver:\n",
    "            self.driver.close()\n",
    "            logger.info(\"Neo4j 연결 종료\")\n",
    "    \n",
    "    def clear_database(self):\n",
    "        \"\"\"데이터베이스 초기화 (기존 데이터 삭제)\"\"\"\n",
    "        with self.driver.session() as session:\n",
    "            session.run(\"MATCH (n) DETACH DELETE n\")\n",
    "            logger.info(\"데이터베이스 초기화 완료\")\n",
    "    \n",
    "    def create_constraints_and_indexes(self):\n",
    "        \"\"\"제약조건 및 인덱스 생성\"\"\"\n",
    "        constraints_queries = [\n",
    "            \"CREATE CONSTRAINT IF NOT EXISTS FOR (e:Employee) REQUIRE e.employee_id IS UNIQUE\",\n",
    "            \"CREATE CONSTRAINT IF NOT EXISTS FOR (d:Department) REQUIRE d.name IS UNIQUE\",\n",
    "            \"CREATE CONSTRAINT IF NOT EXISTS FOR (p:Project) REQUIRE p.project_id IS UNIQUE\",\n",
    "            \"CREATE INDEX IF NOT EXISTS FOR (e:Employee) ON (e.risk_tier)\",\n",
    "            \"CREATE INDEX IF NOT EXISTS FOR (e:Employee) ON (e.job_level)\",\n",
    "            \"CREATE INDEX IF NOT EXISTS FOR (e:Employee) ON (e.persona)\"\n",
    "        ]\n",
    "        \n",
    "        with self.driver.session() as session:\n",
    "            for query in constraints_queries:\n",
    "                try:\n",
    "                    session.run(query)\n",
    "                    logger.info(f\"실행 완료: {query}\")\n",
    "                except Exception as e:\n",
    "                    logger.warning(f\"제약조건/인덱스 생성 실패: {str(e)}\")\n",
    "\n",
    "# Neo4j 매니저 초기화 (실제 환경에 맞게 설정 변경 필요)\n",
    "print(\"Neo4j 연결 설정:\")\n",
    "print(\"1. Neo4j Desktop 또는 Neo4j Community Server가 실행 중이어야 합니다\")\n",
    "print(\"2. 아래 설정을 실제 환경에 맞게 수정하세요:\")\n",
    "print(f\"   - URI: {NEO4J_CONFIG['uri']}\")\n",
    "print(f\"   - Username: {NEO4J_CONFIG['username']}\")\n",
    "print(f\"   - Password: {NEO4J_CONFIG['password']}\")\n",
    "print(\"\\n주의: 비밀번호를 실제 Neo4j 비밀번호로 변경하세요!\")"
   ]
  },
  {
   "cell_type": "markdown",
   "id": "3ee07467",
   "metadata": {},
   "source": [
    "관계 생성 로직 함수들"
   ]
  },
  {
   "cell_type": "code",
   "execution_count": 9,
   "id": "6c798aa2",
   "metadata": {},
   "outputs": [
    {
     "name": "stderr",
     "output_type": "stream",
     "text": [
      "INFO:__main__:XML 파싱 완료:\n",
      "INFO:__main__:  - 직원: 1470명\n",
      "INFO:__main__:  - 부서: 3개\n",
      "INFO:__main__:  - 프로젝트: 25개\n",
      "INFO:__main__:  - 계층 관계: 295개\n",
      "INFO:__main__:  - 협업 관계: 1098084개\n",
      "INFO:__main__:  - 프로젝트 참여: 138개\n"
     ]
    },
    {
     "name": "stdout",
     "output_type": "stream",
     "text": [
      "\n",
      "=== 파싱된 데이터 샘플 ===\n",
      "직원 샘플 (첫 3명):\n",
      "  1. Employee_1 - Sales - Sales Executive (Level 2)\n",
      "  2. Employee_2 - Research & Development - Research Scientist (Level 2)\n",
      "  3. Employee_4 - Research & Development - Laboratory Technician (Level 1)\n",
      "\n",
      "부서 목록:\n",
      "  - Research & Development\n",
      "  - Sales\n",
      "  - Human Resources\n",
      "\n",
      "프로젝트 샘플 (첫 3개):\n",
      "  1. PRJ_001 - single_department - 팀규모: 8\n",
      "  2. PRJ_002 - single_department - 팀규모: 5\n",
      "  3. PRJ_003 - cross_department - 팀규모: 8\n"
     ]
    }
   ],
   "source": [
    "# ------------------------------------------------------\n",
    "# XML 파일 파싱 및 데이터 구조 분석\n",
    "# ------------------------------------------------------\n",
    "\n",
    "def parse_xml_to_graph_data(xml_file_path):\n",
    "    \"\"\"XML 파일을 파싱하여 그래프 생성용 데이터 추출\"\"\"\n",
    "    \n",
    "    if not xml_file_path.exists():\n",
    "        raise FileNotFoundError(f\"XML 파일을 찾을 수 없습니다: {xml_file_path}\")\n",
    "    \n",
    "    try:\n",
    "        tree = ET.parse(xml_file_path)\n",
    "        root = tree.getroot()\n",
    "        \n",
    "        # 데이터 저장 구조\n",
    "        graph_data = {\n",
    "            'employees': [],\n",
    "            'departments': set(),\n",
    "            'projects': [],\n",
    "            'hierarchy_relationships': [],\n",
    "            'collaboration_relationships': [],\n",
    "            'project_relationships': []\n",
    "        }\n",
    "        \n",
    "        # 프로젝트 레지스트리 추출\n",
    "        projects_section = root.find('ProjectRegistry')\n",
    "        if projects_section is not None:\n",
    "            for project_elem in projects_section.findall('Project'):\n",
    "                project_data = {\n",
    "                    'project_id': project_elem.get('project_id'),\n",
    "                    'project_name': project_elem.get('project_name', project_elem.get('project_id')),\n",
    "                    'project_type': project_elem.get('project_type'),\n",
    "                    'team_size': int(project_elem.get('team_size', 0)),\n",
    "                    'start_date': project_elem.get('start_date'),\n",
    "                    'end_date': project_elem.get('end_date'),\n",
    "                    'status': project_elem.get('status'),\n",
    "                    'priority': project_elem.get('priority', 'medium')\n",
    "                }\n",
    "                graph_data['projects'].append(project_data)\n",
    "        \n",
    "        # 직원 정보 및 관계 추출\n",
    "        employees_section = root.find('Employees')\n",
    "        if employees_section is not None:\n",
    "            for emp_elem in employees_section.findall('Employee'):\n",
    "                \n",
    "                # 직원 기본 정보\n",
    "                employee_data = {\n",
    "                    'employee_id': emp_elem.get('id'),\n",
    "                    'name': emp_elem.get('name'),\n",
    "                    'department': emp_elem.get('department'),\n",
    "                    'job_role': emp_elem.get('job_role'),\n",
    "                    'job_level': int(emp_elem.get('job_level', 1)),\n",
    "                    'years_at_company': int(emp_elem.get('years_at_company', 0)),\n",
    "                    'risk_tier': emp_elem.get('risk_tier'),\n",
    "                    'persona': emp_elem.get('persona')\n",
    "                }\n",
    "                graph_data['employees'].append(employee_data)\n",
    "                graph_data['departments'].add(emp_elem.get('department'))\n",
    "                \n",
    "                # 계층 관계 추출\n",
    "                hierarchy = emp_elem.find('HierarchyRelationships')\n",
    "                if hierarchy is not None:\n",
    "                    # 상사 관계\n",
    "                    reports_to = hierarchy.find('ReportsTo')\n",
    "                    if reports_to is not None:\n",
    "                        hierarchy_rel = {\n",
    "                            'subordinate_id': emp_elem.get('id'),\n",
    "                            'manager_id': reports_to.get('manager_id'),\n",
    "                            'reporting_frequency': reports_to.get('reporting_frequency'),\n",
    "                            'relationship_start': reports_to.get('reporting_since', '2023-01-01')\n",
    "                        }\n",
    "                        graph_data['hierarchy_relationships'].append(hierarchy_rel)\n",
    "                \n",
    "                # 협업 관계 추출\n",
    "                collab = emp_elem.find('CollaborationRelationships')\n",
    "                if collab is not None:\n",
    "                    for colleague_elem in collab.findall('Colleague'):\n",
    "                        collab_rel = {\n",
    "                            'employee1_id': emp_elem.get('id'),\n",
    "                            'employee2_id': colleague_elem.get('colleague_id'),\n",
    "                            'collaboration_strength': float(colleague_elem.get('collaboration_strength', 0)),\n",
    "                            'interaction_frequency': float(colleague_elem.get('interaction_frequency', 0)),\n",
    "                            'collaboration_type': colleague_elem.get('collaboration_type'),\n",
    "                            'relationship_quality': colleague_elem.get('relationship_quality'),\n",
    "                            'common_projects': int(colleague_elem.get('common_projects', 0))\n",
    "                        }\n",
    "                        graph_data['collaboration_relationships'].append(collab_rel)\n",
    "                \n",
    "                # 프로젝트 참여 관계 추출\n",
    "                projects = emp_elem.find('ProjectRelationships')\n",
    "                if projects is not None:\n",
    "                    for project_elem in projects.findall('ProjectParticipation'):\n",
    "                        project_rel = {\n",
    "                            'employee_id': emp_elem.get('id'),\n",
    "                            'project_id': project_elem.get('project_id'),\n",
    "                            'role_in_project': project_elem.get('role_in_project'),\n",
    "                            'contribution_level': float(project_elem.get('contribution_level', 0)),\n",
    "                            'project_start': project_elem.get('project_start'),\n",
    "                            'project_end': project_elem.get('project_end'),\n",
    "                            'project_status': project_elem.get('project_status')\n",
    "                        }\n",
    "                        graph_data['project_relationships'].append(project_rel)\n",
    "        \n",
    "        # 부서 정보를 리스트로 변환\n",
    "        graph_data['departments'] = [{'name': dept} for dept in graph_data['departments']]\n",
    "        \n",
    "        logger.info(f\"XML 파싱 완료:\")\n",
    "        logger.info(f\"  - 직원: {len(graph_data['employees'])}명\")\n",
    "        logger.info(f\"  - 부서: {len(graph_data['departments'])}개\")\n",
    "        logger.info(f\"  - 프로젝트: {len(graph_data['projects'])}개\")\n",
    "        logger.info(f\"  - 계층 관계: {len(graph_data['hierarchy_relationships'])}개\")\n",
    "        logger.info(f\"  - 협업 관계: {len(graph_data['collaboration_relationships'])}개\")\n",
    "        logger.info(f\"  - 프로젝트 참여: {len(graph_data['project_relationships'])}개\")\n",
    "        \n",
    "        return graph_data\n",
    "    \n",
    "    except Exception as e:\n",
    "        logger.error(f\"XML 파싱 실패: {str(e)}\")\n",
    "        raise\n",
    "\n",
    "# XML 데이터 파싱 실행\n",
    "graph_data = parse_xml_to_graph_data(XML_FILE_PATH)\n",
    "\n",
    "# 샘플 데이터 미리보기\n",
    "print(\"\\n=== 파싱된 데이터 샘플 ===\")\n",
    "print(f\"직원 샘플 (첫 3명):\")\n",
    "for i, emp in enumerate(graph_data['employees'][:3]):\n",
    "    print(f\"  {i+1}. {emp['name']} - {emp['department']} - {emp['job_role']} (Level {emp['job_level']})\")\n",
    "\n",
    "print(f\"\\n부서 목록:\")\n",
    "for dept in graph_data['departments']:\n",
    "    print(f\"  - {dept['name']}\")\n",
    "\n",
    "print(f\"\\n프로젝트 샘플 (첫 3개):\")\n",
    "for i, proj in enumerate(graph_data['projects'][:3]):\n",
    "    print(f\"  {i+1}. {proj['project_id']} - {proj['project_type']} - 팀규모: {proj['team_size']}\")"
   ]
  },
  {
   "cell_type": "markdown",
   "id": "9553895d",
   "metadata": {},
   "source": [
    "셀 2: XML 파싱 및 데이터 추출"
   ]
  },
  {
   "cell_type": "code",
   "execution_count": 10,
   "id": "f629fff6",
   "metadata": {},
   "outputs": [
    {
     "name": "stdout",
     "output_type": "stream",
     "text": [
      "노드 생성 함수들 정의 완료\n"
     ]
    }
   ],
   "source": [
    "# ------------------------------------------------------\n",
    "# Neo4j 노드 생성 함수들\n",
    "# ------------------------------------------------------\n",
    "\n",
    "def create_employees_nodes(neo4j_manager, employees_data):\n",
    "    \"\"\"직원 노드 생성\"\"\"\n",
    "    \n",
    "    query = \"\"\"\n",
    "    UNWIND $employees as employee\n",
    "    CREATE (e:Employee {\n",
    "        employee_id: employee.employee_id,\n",
    "        name: employee.name,\n",
    "        department: employee.department,\n",
    "        job_role: employee.job_role,\n",
    "        job_level: employee.job_level,\n",
    "        years_at_company: employee.years_at_company,\n",
    "        risk_tier: employee.risk_tier,\n",
    "        persona: employee.persona,\n",
    "        created_at: datetime()\n",
    "    })\n",
    "    \"\"\"\n",
    "    \n",
    "    with neo4j_manager.driver.session() as session:\n",
    "        result = session.run(query, employees=employees_data)\n",
    "        logger.info(f\"직원 노드 {len(employees_data)}개 생성 완료\")\n",
    "\n",
    "def create_departments_nodes(neo4j_manager, departments_data):\n",
    "    \"\"\"부서 노드 생성\"\"\"\n",
    "    \n",
    "    query = \"\"\"\n",
    "    UNWIND $departments as dept\n",
    "    CREATE (d:Department {\n",
    "        name: dept.name,\n",
    "        created_at: datetime()\n",
    "    })\n",
    "    \"\"\"\n",
    "    \n",
    "    with neo4j_manager.driver.session() as session:\n",
    "        result = session.run(query, departments=departments_data)\n",
    "        logger.info(f\"부서 노드 {len(departments_data)}개 생성 완료\")\n",
    "\n",
    "def create_projects_nodes(neo4j_manager, projects_data):\n",
    "    \"\"\"프로젝트 노드 생성\"\"\"\n",
    "    \n",
    "    query = \"\"\"\n",
    "    UNWIND $projects as project\n",
    "    CREATE (p:Project {\n",
    "        project_id: project.project_id,\n",
    "        project_name: project.project_name,\n",
    "        project_type: project.project_type,\n",
    "        team_size: project.team_size,\n",
    "        start_date: date(project.start_date),\n",
    "        end_date: date(project.end_date),\n",
    "        status: project.status,\n",
    "        priority: project.priority,\n",
    "        created_at: datetime()\n",
    "    })\n",
    "    \"\"\"\n",
    "    \n",
    "    with neo4j_manager.driver.session() as session:\n",
    "        result = session.run(query, projects=projects_data)\n",
    "        logger.info(f\"프로젝트 노드 {len(projects_data)}개 생성 완료\")\n",
    "\n",
    "def create_employee_department_relationships(neo4j_manager):\n",
    "    \"\"\"직원-부서 관계 생성\"\"\"\n",
    "    \n",
    "    query = \"\"\"\n",
    "    MATCH (e:Employee), (d:Department)\n",
    "    WHERE e.department = d.name\n",
    "    CREATE (e)-[:WORKS_IN {\n",
    "        created_at: datetime()\n",
    "    }]->(d)\n",
    "    \"\"\"\n",
    "    \n",
    "    with neo4j_manager.driver.session() as session:\n",
    "        result = session.run(query)\n",
    "        summary = result.consume()\n",
    "        logger.info(f\"직원-부서 관계 {summary.counters.relationships_created}개 생성 완료\")\n",
    "\n",
    "print(\"노드 생성 함수들 정의 완료\")"
   ]
  },
  {
   "cell_type": "markdown",
   "id": "002d125d",
   "metadata": {},
   "source": [
    "셀 3: Neo4j 노드 생성 함수들"
   ]
  },
  {
   "cell_type": "code",
   "execution_count": 11,
   "id": "ef9028a7",
   "metadata": {},
   "outputs": [
    {
     "name": "stdout",
     "output_type": "stream",
     "text": [
      "노드 생성 함수들 정의 완료\n"
     ]
    }
   ],
   "source": [
    "# ------------------------------------------------------\n",
    "# Neo4j 노드 생성 함수들\n",
    "# ------------------------------------------------------\n",
    "\n",
    "def create_employees_nodes(neo4j_manager, employees_data):\n",
    "    \"\"\"직원 노드 생성\"\"\"\n",
    "    \n",
    "    query = \"\"\"\n",
    "    UNWIND $employees as employee\n",
    "    CREATE (e:Employee {\n",
    "        employee_id: employee.employee_id,\n",
    "        name: employee.name,\n",
    "        department: employee.department,\n",
    "        job_role: employee.job_role,\n",
    "        job_level: employee.job_level,\n",
    "        years_at_company: employee.years_at_company,\n",
    "        risk_tier: employee.risk_tier,\n",
    "        persona: employee.persona,\n",
    "        created_at: datetime()\n",
    "    })\n",
    "    \"\"\"\n",
    "    \n",
    "    with neo4j_manager.driver.session() as session:\n",
    "        result = session.run(query, employees=employees_data)\n",
    "        logger.info(f\"직원 노드 {len(employees_data)}개 생성 완료\")\n",
    "\n",
    "def create_departments_nodes(neo4j_manager, departments_data):\n",
    "    \"\"\"부서 노드 생성\"\"\"\n",
    "    \n",
    "    query = \"\"\"\n",
    "    UNWIND $departments as dept\n",
    "    CREATE (d:Department {\n",
    "        name: dept.name,\n",
    "        created_at: datetime()\n",
    "    })\n",
    "    \"\"\"\n",
    "    \n",
    "    with neo4j_manager.driver.session() as session:\n",
    "        result = session.run(query, departments=departments_data)\n",
    "        logger.info(f\"부서 노드 {len(departments_data)}개 생성 완료\")\n",
    "\n",
    "def create_projects_nodes(neo4j_manager, projects_data):\n",
    "    \"\"\"프로젝트 노드 생성\"\"\"\n",
    "    \n",
    "    query = \"\"\"\n",
    "    UNWIND $projects as project\n",
    "    CREATE (p:Project {\n",
    "        project_id: project.project_id,\n",
    "        project_name: project.project_name,\n",
    "        project_type: project.project_type,\n",
    "        team_size: project.team_size,\n",
    "        start_date: date(project.start_date),\n",
    "        end_date: date(project.end_date),\n",
    "        status: project.status,\n",
    "        priority: project.priority,\n",
    "        created_at: datetime()\n",
    "    })\n",
    "    \"\"\"\n",
    "    \n",
    "    with neo4j_manager.driver.session() as session:\n",
    "        result = session.run(query, projects=projects_data)\n",
    "        logger.info(f\"프로젝트 노드 {len(projects_data)}개 생성 완료\")\n",
    "\n",
    "def create_employee_department_relationships(neo4j_manager):\n",
    "    \"\"\"직원-부서 관계 생성\"\"\"\n",
    "    \n",
    "    query = \"\"\"\n",
    "    MATCH (e:Employee), (d:Department)\n",
    "    WHERE e.department = d.name\n",
    "    CREATE (e)-[:WORKS_IN {\n",
    "        created_at: datetime()\n",
    "    }]->(d)\n",
    "    \"\"\"\n",
    "    \n",
    "    with neo4j_manager.driver.session() as session:\n",
    "        result = session.run(query)\n",
    "        summary = result.consume()\n",
    "        logger.info(f\"직원-부서 관계 {summary.counters.relationships_created}개 생성 완료\")\n",
    "\n",
    "print(\"노드 생성 함수들 정의 완료\")"
   ]
  },
  {
   "cell_type": "markdown",
   "id": "97d324f4",
   "metadata": {},
   "source": [
    "셀 4: Neo4j 관계 생성 함수들"
   ]
  },
  {
   "cell_type": "code",
   "execution_count": 16,
   "id": "8aa77c1b",
   "metadata": {},
   "outputs": [
    {
     "name": "stdout",
     "output_type": "stream",
     "text": [
      "관계 생성 함수들 정의 완료\n"
     ]
    }
   ],
   "source": [
    "# ------------------------------------------------------\n",
    "# Neo4j 관계 생성 함수들\n",
    "# ------------------------------------------------------\n",
    "\n",
    "def create_hierarchy_relationships(neo4j_manager, hierarchy_data):\n",
    "    \"\"\"계층 관계 생성 (상사-부하)\"\"\"\n",
    "    \n",
    "    query = \"\"\"\n",
    "    UNWIND $relationships as rel\n",
    "    MATCH (sub:Employee {employee_id: rel.subordinate_id})\n",
    "    MATCH (mgr:Employee {employee_id: rel.manager_id})\n",
    "    CREATE (sub)-[:REPORTS_TO {\n",
    "        reporting_frequency: rel.reporting_frequency,\n",
    "        relationship_start: CASE \n",
    "            WHEN rel.relationship_start IS NOT NULL AND rel.relationship_start <> '' \n",
    "            THEN date(rel.relationship_start) \n",
    "            ELSE null \n",
    "        END,\n",
    "        created_at: datetime()\n",
    "    }]->(mgr)\n",
    "    \"\"\"\n",
    "    \n",
    "    with neo4j_manager.driver.session() as session:\n",
    "        result = session.run(query, relationships=hierarchy_data)\n",
    "        summary = result.consume()\n",
    "        logger.info(f\"계층 관계 {summary.counters.relationships_created}개 생성 완료\")\n",
    "\n",
    "def create_collaboration_relationships(neo4j_manager, collaboration_data):\n",
    "    \"\"\"협업 관계 생성\"\"\"\n",
    "    \n",
    "    # 중복 제거: 양방향 관계를 단방향으로 변환\n",
    "    unique_collaborations = []\n",
    "    seen_pairs = set()\n",
    "    \n",
    "    for collab in collaboration_data:\n",
    "        emp1, emp2 = collab['employee1_id'], collab['employee2_id']\n",
    "        pair = tuple(sorted([emp1, emp2]))\n",
    "        \n",
    "        if pair not in seen_pairs:\n",
    "            seen_pairs.add(pair)\n",
    "            unique_collaborations.append(collab)\n",
    "    \n",
    "    # 방향성 관계로 수정하되, 양방향으로 생성하여 무방향 효과 구현\n",
    "    query = \"\"\"\n",
    "    UNWIND $relationships as rel\n",
    "    MATCH (e1:Employee {employee_id: rel.employee1_id})\n",
    "    MATCH (e2:Employee {employee_id: rel.employee2_id})\n",
    "    CREATE (e1)-[:COLLABORATES_WITH {\n",
    "        collaboration_strength: rel.collaboration_strength,\n",
    "        interaction_frequency: rel.interaction_frequency,\n",
    "        collaboration_type: rel.collaboration_type,\n",
    "        relationship_quality: rel.relationship_quality,\n",
    "        common_projects: rel.common_projects,\n",
    "        created_at: datetime()\n",
    "    }]->(e2)\n",
    "    CREATE (e2)-[:COLLABORATES_WITH {\n",
    "        collaboration_strength: rel.collaboration_strength,\n",
    "        interaction_frequency: rel.interaction_frequency,\n",
    "        collaboration_type: rel.collaboration_type,\n",
    "        relationship_quality: rel.relationship_quality,\n",
    "        common_projects: rel.common_projects,\n",
    "        created_at: datetime()\n",
    "    }]->(e1)\n",
    "    \"\"\"\n",
    "    \n",
    "    with neo4j_manager.driver.session() as session:\n",
    "        result = session.run(query, relationships=unique_collaborations)\n",
    "        summary = result.consume()\n",
    "        logger.info(f\"협업 관계 {summary.counters.relationships_created}개 생성 완료\")\n",
    "\n",
    "def create_project_participation_relationships(neo4j_manager, project_relationships_data):\n",
    "    \"\"\"프로젝트 참여 관계 생성\"\"\"\n",
    "    \n",
    "    query = \"\"\"\n",
    "    UNWIND $relationships as rel\n",
    "    MATCH (e:Employee {employee_id: rel.employee_id})\n",
    "    MATCH (p:Project {project_id: rel.project_id})\n",
    "    CREATE (e)-[:PARTICIPATES_IN {\n",
    "        role_in_project: rel.role_in_project,\n",
    "        contribution_level: rel.contribution_level,\n",
    "        project_start: CASE \n",
    "            WHEN rel.project_start IS NOT NULL AND rel.project_start <> '' \n",
    "            THEN date(rel.project_start) \n",
    "            ELSE null \n",
    "        END,\n",
    "        project_end: CASE \n",
    "            WHEN rel.project_end IS NOT NULL AND rel.project_end <> '' \n",
    "            THEN date(rel.project_end) \n",
    "            ELSE null \n",
    "        END,\n",
    "        project_status: rel.project_status,\n",
    "        created_at: datetime()\n",
    "    }]->(p)\n",
    "    \"\"\"\n",
    "    \n",
    "    with neo4j_manager.driver.session() as session:\n",
    "        result = session.run(query, relationships=project_relationships_data)\n",
    "        summary = result.consume()\n",
    "        logger.info(f\"프로젝트 참여 관계 {summary.counters.relationships_created}개 생성 완료\")\n",
    "\n",
    "def create_project_collaboration_relationships(neo4j_manager):\n",
    "    \"\"\"프로젝트 내 팀원 간 협업 관계 생성\"\"\"\n",
    "    \n",
    "    # 방향성 관계로 수정\n",
    "    query = \"\"\"\n",
    "    MATCH (e1:Employee)-[:PARTICIPATES_IN]->(p:Project)<-[:PARTICIPATES_IN]-(e2:Employee)\n",
    "    WHERE e1.employee_id < e2.employee_id\n",
    "    CREATE (e1)-[:PROJECT_COLLEAGUE {\n",
    "        shared_project: p.project_id,\n",
    "        created_at: datetime()\n",
    "    }]->(e2)\n",
    "    CREATE (e2)-[:PROJECT_COLLEAGUE {\n",
    "        shared_project: p.project_id,\n",
    "        created_at: datetime()\n",
    "    }]->(e1)\n",
    "    \"\"\"\n",
    "    \n",
    "    with neo4j_manager.driver.session() as session:\n",
    "        result = session.run(query)\n",
    "        summary = result.consume()\n",
    "        logger.info(f\"프로젝트 내 협업 관계 {summary.counters.relationships_created}개 생성 완료\")\n",
    "\n",
    "print(\"관계 생성 함수들 정의 완료\")"
   ]
  },
  {
   "cell_type": "markdown",
   "id": "f2c832bd",
   "metadata": {},
   "source": [
    "셀 5: Neo4j 데이터 베이스 생성 실행"
   ]
  },
  {
   "cell_type": "code",
   "execution_count": 17,
   "id": "760f4346",
   "metadata": {},
   "outputs": [
    {
     "name": "stderr",
     "output_type": "stream",
     "text": [
      "INFO:__main__:Neo4j 연결 성공\n"
     ]
    },
    {
     "name": "stdout",
     "output_type": "stream",
     "text": [
      "Neo4j 그래프 생성 시작...\n",
      "Neo4j 서버: bolt://54.162.43.24:7687\n",
      "처리 대상 데이터:\n",
      "  - 직원: 1,470명\n",
      "  - 부서: 3개\n",
      "  - 프로젝트: 25개\n",
      "  - 계층관계: 295개\n",
      "  - 협업관계: 1,098,084개\n",
      "  - 프로젝트참여: 138개\n",
      "------------------------------------------------------------\n"
     ]
    },
    {
     "name": "stderr",
     "output_type": "stream",
     "text": [
      "INFO:__main__:Neo4j 서버 응답 확인\n"
     ]
    },
    {
     "name": "stdout",
     "output_type": "stream",
     "text": [
      "1. 기존 데이터 삭제 중...\n"
     ]
    },
    {
     "name": "stderr",
     "output_type": "stream",
     "text": [
      "INFO:__main__:데이터베이스 초기화 완료\n"
     ]
    },
    {
     "name": "stdout",
     "output_type": "stream",
     "text": [
      "2. 제약조건 및 인덱스 생성 중...\n"
     ]
    },
    {
     "name": "stderr",
     "output_type": "stream",
     "text": [
      "INFO:__main__:실행 완료: CREATE CONSTRAINT IF NOT EXISTS FOR (e:Employee) REQUIRE e.employee_id IS UNIQUE\n",
      "INFO:__main__:실행 완료: CREATE CONSTRAINT IF NOT EXISTS FOR (d:Department) REQUIRE d.name IS UNIQUE\n",
      "INFO:__main__:실행 완료: CREATE CONSTRAINT IF NOT EXISTS FOR (p:Project) REQUIRE p.project_id IS UNIQUE\n",
      "INFO:__main__:실행 완료: CREATE INDEX IF NOT EXISTS FOR (e:Employee) ON (e.risk_tier)\n",
      "INFO:__main__:실행 완료: CREATE INDEX IF NOT EXISTS FOR (e:Employee) ON (e.job_level)\n",
      "INFO:__main__:실행 완료: CREATE INDEX IF NOT EXISTS FOR (e:Employee) ON (e.persona)\n"
     ]
    },
    {
     "name": "stdout",
     "output_type": "stream",
     "text": [
      "3. 노드 생성 중...\n"
     ]
    },
    {
     "name": "stderr",
     "output_type": "stream",
     "text": [
      "INFO:__main__:부서 노드 3개 생성 완료\n",
      "INFO:__main__:직원 노드 1470개 생성 완료\n",
      "INFO:__main__:프로젝트 노드 25개 생성 완료\n"
     ]
    },
    {
     "name": "stdout",
     "output_type": "stream",
     "text": [
      "4. 기본 관계 생성 중...\n"
     ]
    },
    {
     "name": "stderr",
     "output_type": "stream",
     "text": [
      "INFO:__main__:직원-부서 관계 1470개 생성 완료\n"
     ]
    },
    {
     "name": "stdout",
     "output_type": "stream",
     "text": [
      "5. 조직 관계 생성 중...\n",
      "   5-1. 계층 관계 295개 생성 중...\n"
     ]
    },
    {
     "name": "stderr",
     "output_type": "stream",
     "text": [
      "INFO:__main__:계층 관계 295개 생성 완료\n"
     ]
    },
    {
     "name": "stdout",
     "output_type": "stream",
     "text": [
      "   5-2. 협업 관계 1098084개 생성 중... (배치 처리)\n",
      "      배치 1/110 처리 중... (10000개)\n"
     ]
    },
    {
     "name": "stderr",
     "output_type": "stream",
     "text": [
      "INFO:__main__:협업 관계 19890개 생성 완료\n"
     ]
    },
    {
     "name": "stdout",
     "output_type": "stream",
     "text": [
      "      배치 2/110 처리 중... (10000개)\n"
     ]
    },
    {
     "name": "stderr",
     "output_type": "stream",
     "text": [
      "INFO:__main__:협업 관계 19926개 생성 완료\n"
     ]
    },
    {
     "name": "stdout",
     "output_type": "stream",
     "text": [
      "      배치 3/110 처리 중... (10000개)\n"
     ]
    },
    {
     "name": "stderr",
     "output_type": "stream",
     "text": [
      "INFO:__main__:협업 관계 19914개 생성 완료\n"
     ]
    },
    {
     "name": "stdout",
     "output_type": "stream",
     "text": [
      "      배치 4/110 처리 중... (10000개)\n"
     ]
    },
    {
     "name": "stderr",
     "output_type": "stream",
     "text": [
      "INFO:__main__:협업 관계 19918개 생성 완료\n"
     ]
    },
    {
     "name": "stdout",
     "output_type": "stream",
     "text": [
      "      배치 5/110 처리 중... (10000개)\n"
     ]
    },
    {
     "name": "stderr",
     "output_type": "stream",
     "text": [
      "INFO:__main__:협업 관계 19922개 생성 완료\n"
     ]
    },
    {
     "name": "stdout",
     "output_type": "stream",
     "text": [
      "      배치 6/110 처리 중... (10000개)\n"
     ]
    },
    {
     "name": "stderr",
     "output_type": "stream",
     "text": [
      "INFO:__main__:협업 관계 19910개 생성 완료\n"
     ]
    },
    {
     "name": "stdout",
     "output_type": "stream",
     "text": [
      "      배치 7/110 처리 중... (10000개)\n"
     ]
    },
    {
     "name": "stderr",
     "output_type": "stream",
     "text": [
      "INFO:__main__:협업 관계 19926개 생성 완료\n"
     ]
    },
    {
     "name": "stdout",
     "output_type": "stream",
     "text": [
      "      배치 8/110 처리 중... (10000개)\n"
     ]
    },
    {
     "name": "stderr",
     "output_type": "stream",
     "text": [
      "INFO:__main__:협업 관계 19902개 생성 완료\n"
     ]
    },
    {
     "name": "stdout",
     "output_type": "stream",
     "text": [
      "      배치 9/110 처리 중... (10000개)\n"
     ]
    },
    {
     "name": "stderr",
     "output_type": "stream",
     "text": [
      "INFO:__main__:협업 관계 19914개 생성 완료\n"
     ]
    },
    {
     "name": "stdout",
     "output_type": "stream",
     "text": [
      "      배치 10/110 처리 중... (10000개)\n"
     ]
    },
    {
     "name": "stderr",
     "output_type": "stream",
     "text": [
      "INFO:__main__:협업 관계 19922개 생성 완료\n"
     ]
    },
    {
     "name": "stdout",
     "output_type": "stream",
     "text": [
      "      배치 11/110 처리 중... (10000개)\n"
     ]
    },
    {
     "name": "stderr",
     "output_type": "stream",
     "text": [
      "INFO:__main__:협업 관계 19922개 생성 완료\n"
     ]
    },
    {
     "name": "stdout",
     "output_type": "stream",
     "text": [
      "      배치 12/110 처리 중... (10000개)\n"
     ]
    },
    {
     "name": "stderr",
     "output_type": "stream",
     "text": [
      "INFO:__main__:협업 관계 19916개 생성 완료\n"
     ]
    },
    {
     "name": "stdout",
     "output_type": "stream",
     "text": [
      "      배치 13/110 처리 중... (10000개)\n"
     ]
    },
    {
     "name": "stderr",
     "output_type": "stream",
     "text": [
      "INFO:__main__:협업 관계 19926개 생성 완료\n"
     ]
    },
    {
     "name": "stdout",
     "output_type": "stream",
     "text": [
      "      배치 14/110 처리 중... (10000개)\n"
     ]
    },
    {
     "name": "stderr",
     "output_type": "stream",
     "text": [
      "INFO:__main__:협업 관계 19922개 생성 완료\n"
     ]
    },
    {
     "name": "stdout",
     "output_type": "stream",
     "text": [
      "      배치 15/110 처리 중... (10000개)\n"
     ]
    },
    {
     "name": "stderr",
     "output_type": "stream",
     "text": [
      "INFO:__main__:협업 관계 19900개 생성 완료\n"
     ]
    },
    {
     "name": "stdout",
     "output_type": "stream",
     "text": [
      "      배치 16/110 처리 중... (10000개)\n"
     ]
    },
    {
     "name": "stderr",
     "output_type": "stream",
     "text": [
      "INFO:__main__:협업 관계 19890개 생성 완료\n"
     ]
    },
    {
     "name": "stdout",
     "output_type": "stream",
     "text": [
      "      배치 17/110 처리 중... (10000개)\n"
     ]
    },
    {
     "name": "stderr",
     "output_type": "stream",
     "text": [
      "INFO:__main__:협업 관계 19924개 생성 완료\n"
     ]
    },
    {
     "name": "stdout",
     "output_type": "stream",
     "text": [
      "      배치 18/110 처리 중... (10000개)\n"
     ]
    },
    {
     "name": "stderr",
     "output_type": "stream",
     "text": [
      "INFO:__main__:협업 관계 19918개 생성 완료\n"
     ]
    },
    {
     "name": "stdout",
     "output_type": "stream",
     "text": [
      "      배치 19/110 처리 중... (10000개)\n"
     ]
    },
    {
     "name": "stderr",
     "output_type": "stream",
     "text": [
      "INFO:__main__:협업 관계 19928개 생성 완료\n"
     ]
    },
    {
     "name": "stdout",
     "output_type": "stream",
     "text": [
      "      배치 20/110 처리 중... (10000개)\n"
     ]
    },
    {
     "name": "stderr",
     "output_type": "stream",
     "text": [
      "INFO:__main__:협업 관계 19910개 생성 완료\n"
     ]
    },
    {
     "name": "stdout",
     "output_type": "stream",
     "text": [
      "      배치 21/110 처리 중... (10000개)\n"
     ]
    },
    {
     "name": "stderr",
     "output_type": "stream",
     "text": [
      "INFO:__main__:협업 관계 19906개 생성 완료\n"
     ]
    },
    {
     "name": "stdout",
     "output_type": "stream",
     "text": [
      "      배치 22/110 처리 중... (10000개)\n"
     ]
    },
    {
     "name": "stderr",
     "output_type": "stream",
     "text": [
      "INFO:__main__:협업 관계 19922개 생성 완료\n"
     ]
    },
    {
     "name": "stdout",
     "output_type": "stream",
     "text": [
      "      배치 23/110 처리 중... (10000개)\n"
     ]
    },
    {
     "name": "stderr",
     "output_type": "stream",
     "text": [
      "INFO:__main__:협업 관계 19912개 생성 완료\n"
     ]
    },
    {
     "name": "stdout",
     "output_type": "stream",
     "text": [
      "      배치 24/110 처리 중... (10000개)\n"
     ]
    },
    {
     "name": "stderr",
     "output_type": "stream",
     "text": [
      "INFO:__main__:협업 관계 19914개 생성 완료\n"
     ]
    },
    {
     "name": "stdout",
     "output_type": "stream",
     "text": [
      "      배치 25/110 처리 중... (10000개)\n"
     ]
    },
    {
     "name": "stderr",
     "output_type": "stream",
     "text": [
      "INFO:__main__:협업 관계 19928개 생성 완료\n"
     ]
    },
    {
     "name": "stdout",
     "output_type": "stream",
     "text": [
      "      배치 26/110 처리 중... (10000개)\n"
     ]
    },
    {
     "name": "stderr",
     "output_type": "stream",
     "text": [
      "INFO:__main__:협업 관계 19920개 생성 완료\n"
     ]
    },
    {
     "name": "stdout",
     "output_type": "stream",
     "text": [
      "      배치 27/110 처리 중... (10000개)\n"
     ]
    },
    {
     "name": "stderr",
     "output_type": "stream",
     "text": [
      "INFO:__main__:협업 관계 19916개 생성 완료\n"
     ]
    },
    {
     "name": "stdout",
     "output_type": "stream",
     "text": [
      "      배치 28/110 처리 중... (10000개)\n"
     ]
    },
    {
     "name": "stderr",
     "output_type": "stream",
     "text": [
      "INFO:__main__:협업 관계 19898개 생성 완료\n"
     ]
    },
    {
     "name": "stdout",
     "output_type": "stream",
     "text": [
      "      배치 29/110 처리 중... (10000개)\n"
     ]
    },
    {
     "name": "stderr",
     "output_type": "stream",
     "text": [
      "INFO:__main__:협업 관계 19924개 생성 완료\n"
     ]
    },
    {
     "name": "stdout",
     "output_type": "stream",
     "text": [
      "      배치 30/110 처리 중... (10000개)\n"
     ]
    },
    {
     "name": "stderr",
     "output_type": "stream",
     "text": [
      "INFO:__main__:협업 관계 19914개 생성 완료\n"
     ]
    },
    {
     "name": "stdout",
     "output_type": "stream",
     "text": [
      "      배치 31/110 처리 중... (10000개)\n"
     ]
    },
    {
     "name": "stderr",
     "output_type": "stream",
     "text": [
      "INFO:__main__:협업 관계 19918개 생성 완료\n"
     ]
    },
    {
     "name": "stdout",
     "output_type": "stream",
     "text": [
      "      배치 32/110 처리 중... (10000개)\n"
     ]
    },
    {
     "name": "stderr",
     "output_type": "stream",
     "text": [
      "INFO:__main__:협업 관계 19910개 생성 완료\n"
     ]
    },
    {
     "name": "stdout",
     "output_type": "stream",
     "text": [
      "      배치 33/110 처리 중... (10000개)\n"
     ]
    },
    {
     "name": "stderr",
     "output_type": "stream",
     "text": [
      "INFO:__main__:협업 관계 19926개 생성 완료\n"
     ]
    },
    {
     "name": "stdout",
     "output_type": "stream",
     "text": [
      "      배치 34/110 처리 중... (10000개)\n"
     ]
    },
    {
     "name": "stderr",
     "output_type": "stream",
     "text": [
      "INFO:__main__:협업 관계 19910개 생성 완료\n"
     ]
    },
    {
     "name": "stdout",
     "output_type": "stream",
     "text": [
      "      배치 35/110 처리 중... (10000개)\n"
     ]
    },
    {
     "name": "stderr",
     "output_type": "stream",
     "text": [
      "INFO:__main__:협업 관계 19898개 생성 완료\n"
     ]
    },
    {
     "name": "stdout",
     "output_type": "stream",
     "text": [
      "      배치 36/110 처리 중... (10000개)\n"
     ]
    },
    {
     "name": "stderr",
     "output_type": "stream",
     "text": [
      "INFO:__main__:협업 관계 19902개 생성 완료\n"
     ]
    },
    {
     "name": "stdout",
     "output_type": "stream",
     "text": [
      "      배치 37/110 처리 중... (10000개)\n"
     ]
    },
    {
     "name": "stderr",
     "output_type": "stream",
     "text": [
      "INFO:__main__:협업 관계 19920개 생성 완료\n"
     ]
    },
    {
     "name": "stdout",
     "output_type": "stream",
     "text": [
      "      배치 38/110 처리 중... (10000개)\n"
     ]
    },
    {
     "name": "stderr",
     "output_type": "stream",
     "text": [
      "INFO:__main__:협업 관계 19918개 생성 완료\n"
     ]
    },
    {
     "name": "stdout",
     "output_type": "stream",
     "text": [
      "      배치 39/110 처리 중... (10000개)\n"
     ]
    },
    {
     "name": "stderr",
     "output_type": "stream",
     "text": [
      "INFO:__main__:협업 관계 19922개 생성 완료\n"
     ]
    },
    {
     "name": "stdout",
     "output_type": "stream",
     "text": [
      "      배치 40/110 처리 중... (10000개)\n"
     ]
    },
    {
     "name": "stderr",
     "output_type": "stream",
     "text": [
      "INFO:__main__:협업 관계 19916개 생성 완료\n"
     ]
    },
    {
     "name": "stdout",
     "output_type": "stream",
     "text": [
      "      배치 41/110 처리 중... (10000개)\n"
     ]
    },
    {
     "name": "stderr",
     "output_type": "stream",
     "text": [
      "INFO:__main__:협업 관계 19914개 생성 완료\n"
     ]
    },
    {
     "name": "stdout",
     "output_type": "stream",
     "text": [
      "      배치 42/110 처리 중... (10000개)\n"
     ]
    },
    {
     "name": "stderr",
     "output_type": "stream",
     "text": [
      "INFO:__main__:협업 관계 19924개 생성 완료\n"
     ]
    },
    {
     "name": "stdout",
     "output_type": "stream",
     "text": [
      "      배치 43/110 처리 중... (10000개)\n"
     ]
    },
    {
     "name": "stderr",
     "output_type": "stream",
     "text": [
      "INFO:__main__:협업 관계 19918개 생성 완료\n"
     ]
    },
    {
     "name": "stdout",
     "output_type": "stream",
     "text": [
      "      배치 44/110 처리 중... (10000개)\n"
     ]
    },
    {
     "name": "stderr",
     "output_type": "stream",
     "text": [
      "INFO:__main__:협업 관계 19920개 생성 완료\n"
     ]
    },
    {
     "name": "stdout",
     "output_type": "stream",
     "text": [
      "      배치 45/110 처리 중... (10000개)\n"
     ]
    },
    {
     "name": "stderr",
     "output_type": "stream",
     "text": [
      "INFO:__main__:협업 관계 19916개 생성 완료\n"
     ]
    },
    {
     "name": "stdout",
     "output_type": "stream",
     "text": [
      "      배치 46/110 처리 중... (10000개)\n"
     ]
    },
    {
     "name": "stderr",
     "output_type": "stream",
     "text": [
      "INFO:__main__:협업 관계 19908개 생성 완료\n"
     ]
    },
    {
     "name": "stdout",
     "output_type": "stream",
     "text": [
      "      배치 47/110 처리 중... (10000개)\n"
     ]
    },
    {
     "name": "stderr",
     "output_type": "stream",
     "text": [
      "INFO:__main__:협업 관계 19926개 생성 완료\n"
     ]
    },
    {
     "name": "stdout",
     "output_type": "stream",
     "text": [
      "      배치 48/110 처리 중... (10000개)\n"
     ]
    },
    {
     "name": "stderr",
     "output_type": "stream",
     "text": [
      "INFO:__main__:협업 관계 19914개 생성 완료\n"
     ]
    },
    {
     "name": "stdout",
     "output_type": "stream",
     "text": [
      "      배치 49/110 처리 중... (10000개)\n"
     ]
    },
    {
     "name": "stderr",
     "output_type": "stream",
     "text": [
      "INFO:__main__:협업 관계 19916개 생성 완료\n"
     ]
    },
    {
     "name": "stdout",
     "output_type": "stream",
     "text": [
      "      배치 50/110 처리 중... (10000개)\n"
     ]
    },
    {
     "name": "stderr",
     "output_type": "stream",
     "text": [
      "INFO:__main__:협업 관계 19914개 생성 완료\n"
     ]
    },
    {
     "name": "stdout",
     "output_type": "stream",
     "text": [
      "      배치 51/110 처리 중... (10000개)\n"
     ]
    },
    {
     "name": "stderr",
     "output_type": "stream",
     "text": [
      "INFO:__main__:협업 관계 19926개 생성 완료\n"
     ]
    },
    {
     "name": "stdout",
     "output_type": "stream",
     "text": [
      "      배치 52/110 처리 중... (10000개)\n"
     ]
    },
    {
     "name": "stderr",
     "output_type": "stream",
     "text": [
      "INFO:__main__:협업 관계 19924개 생성 완료\n"
     ]
    },
    {
     "name": "stdout",
     "output_type": "stream",
     "text": [
      "      배치 53/110 처리 중... (10000개)\n"
     ]
    },
    {
     "name": "stderr",
     "output_type": "stream",
     "text": [
      "INFO:__main__:협업 관계 19880개 생성 완료\n"
     ]
    },
    {
     "name": "stdout",
     "output_type": "stream",
     "text": [
      "      배치 54/110 처리 중... (10000개)\n"
     ]
    },
    {
     "name": "stderr",
     "output_type": "stream",
     "text": [
      "INFO:__main__:협업 관계 19918개 생성 완료\n"
     ]
    },
    {
     "name": "stdout",
     "output_type": "stream",
     "text": [
      "      배치 55/110 처리 중... (10000개)\n"
     ]
    },
    {
     "name": "stderr",
     "output_type": "stream",
     "text": [
      "INFO:__main__:협업 관계 19910개 생성 완료\n"
     ]
    },
    {
     "name": "stdout",
     "output_type": "stream",
     "text": [
      "      배치 56/110 처리 중... (10000개)\n"
     ]
    },
    {
     "name": "stderr",
     "output_type": "stream",
     "text": [
      "INFO:__main__:협업 관계 19890개 생성 완료\n"
     ]
    },
    {
     "name": "stdout",
     "output_type": "stream",
     "text": [
      "      배치 57/110 처리 중... (10000개)\n"
     ]
    },
    {
     "name": "stderr",
     "output_type": "stream",
     "text": [
      "INFO:__main__:협업 관계 19906개 생성 완료\n"
     ]
    },
    {
     "name": "stdout",
     "output_type": "stream",
     "text": [
      "      배치 58/110 처리 중... (10000개)\n"
     ]
    },
    {
     "name": "stderr",
     "output_type": "stream",
     "text": [
      "INFO:__main__:협업 관계 19922개 생성 완료\n"
     ]
    },
    {
     "name": "stdout",
     "output_type": "stream",
     "text": [
      "      배치 59/110 처리 중... (10000개)\n"
     ]
    },
    {
     "name": "stderr",
     "output_type": "stream",
     "text": [
      "INFO:__main__:협업 관계 19922개 생성 완료\n"
     ]
    },
    {
     "name": "stdout",
     "output_type": "stream",
     "text": [
      "      배치 60/110 처리 중... (10000개)\n"
     ]
    },
    {
     "name": "stderr",
     "output_type": "stream",
     "text": [
      "INFO:__main__:협업 관계 19908개 생성 완료\n"
     ]
    },
    {
     "name": "stdout",
     "output_type": "stream",
     "text": [
      "      배치 61/110 처리 중... (10000개)\n"
     ]
    },
    {
     "name": "stderr",
     "output_type": "stream",
     "text": [
      "INFO:__main__:협업 관계 19916개 생성 완료\n"
     ]
    },
    {
     "name": "stdout",
     "output_type": "stream",
     "text": [
      "      배치 62/110 처리 중... (10000개)\n"
     ]
    },
    {
     "name": "stderr",
     "output_type": "stream",
     "text": [
      "INFO:__main__:협업 관계 19924개 생성 완료\n"
     ]
    },
    {
     "name": "stdout",
     "output_type": "stream",
     "text": [
      "      배치 63/110 처리 중... (10000개)\n"
     ]
    },
    {
     "name": "stderr",
     "output_type": "stream",
     "text": [
      "INFO:__main__:협업 관계 19910개 생성 완료\n"
     ]
    },
    {
     "name": "stdout",
     "output_type": "stream",
     "text": [
      "      배치 64/110 처리 중... (10000개)\n"
     ]
    },
    {
     "name": "stderr",
     "output_type": "stream",
     "text": [
      "INFO:__main__:협업 관계 19924개 생성 완료\n"
     ]
    },
    {
     "name": "stdout",
     "output_type": "stream",
     "text": [
      "      배치 65/110 처리 중... (10000개)\n"
     ]
    },
    {
     "name": "stderr",
     "output_type": "stream",
     "text": [
      "INFO:__main__:협업 관계 19918개 생성 완료\n"
     ]
    },
    {
     "name": "stdout",
     "output_type": "stream",
     "text": [
      "      배치 66/110 처리 중... (10000개)\n"
     ]
    },
    {
     "name": "stderr",
     "output_type": "stream",
     "text": [
      "INFO:__main__:협업 관계 19918개 생성 완료\n"
     ]
    },
    {
     "name": "stdout",
     "output_type": "stream",
     "text": [
      "      배치 67/110 처리 중... (10000개)\n"
     ]
    },
    {
     "name": "stderr",
     "output_type": "stream",
     "text": [
      "INFO:__main__:협업 관계 19924개 생성 완료\n"
     ]
    },
    {
     "name": "stdout",
     "output_type": "stream",
     "text": [
      "      배치 68/110 처리 중... (10000개)\n"
     ]
    },
    {
     "name": "stderr",
     "output_type": "stream",
     "text": [
      "INFO:__main__:협업 관계 19904개 생성 완료\n"
     ]
    },
    {
     "name": "stdout",
     "output_type": "stream",
     "text": [
      "      배치 69/110 처리 중... (10000개)\n"
     ]
    },
    {
     "name": "stderr",
     "output_type": "stream",
     "text": [
      "INFO:__main__:협업 관계 19924개 생성 완료\n"
     ]
    },
    {
     "name": "stdout",
     "output_type": "stream",
     "text": [
      "      배치 70/110 처리 중... (10000개)\n"
     ]
    },
    {
     "name": "stderr",
     "output_type": "stream",
     "text": [
      "INFO:__main__:협업 관계 19912개 생성 완료\n"
     ]
    },
    {
     "name": "stdout",
     "output_type": "stream",
     "text": [
      "      배치 71/110 처리 중... (10000개)\n"
     ]
    },
    {
     "name": "stderr",
     "output_type": "stream",
     "text": [
      "INFO:__main__:협업 관계 19914개 생성 완료\n"
     ]
    },
    {
     "name": "stdout",
     "output_type": "stream",
     "text": [
      "      배치 72/110 처리 중... (10000개)\n"
     ]
    },
    {
     "name": "stderr",
     "output_type": "stream",
     "text": [
      "INFO:__main__:협업 관계 19924개 생성 완료\n"
     ]
    },
    {
     "name": "stdout",
     "output_type": "stream",
     "text": [
      "      배치 73/110 처리 중... (10000개)\n"
     ]
    },
    {
     "name": "stderr",
     "output_type": "stream",
     "text": [
      "INFO:__main__:협업 관계 19926개 생성 완료\n"
     ]
    },
    {
     "name": "stdout",
     "output_type": "stream",
     "text": [
      "      배치 74/110 처리 중... (10000개)\n"
     ]
    },
    {
     "name": "stderr",
     "output_type": "stream",
     "text": [
      "INFO:__main__:협업 관계 19916개 생성 완료\n"
     ]
    },
    {
     "name": "stdout",
     "output_type": "stream",
     "text": [
      "      배치 75/110 처리 중... (10000개)\n"
     ]
    },
    {
     "name": "stderr",
     "output_type": "stream",
     "text": [
      "INFO:__main__:협업 관계 19902개 생성 완료\n"
     ]
    },
    {
     "name": "stdout",
     "output_type": "stream",
     "text": [
      "      배치 76/110 처리 중... (10000개)\n"
     ]
    },
    {
     "name": "stderr",
     "output_type": "stream",
     "text": [
      "INFO:__main__:협업 관계 19908개 생성 완료\n"
     ]
    },
    {
     "name": "stdout",
     "output_type": "stream",
     "text": [
      "      배치 77/110 처리 중... (10000개)\n"
     ]
    },
    {
     "name": "stderr",
     "output_type": "stream",
     "text": [
      "INFO:__main__:협업 관계 19918개 생성 완료\n"
     ]
    },
    {
     "name": "stdout",
     "output_type": "stream",
     "text": [
      "      배치 78/110 처리 중... (10000개)\n"
     ]
    },
    {
     "name": "stderr",
     "output_type": "stream",
     "text": [
      "INFO:__main__:협업 관계 19924개 생성 완료\n"
     ]
    },
    {
     "name": "stdout",
     "output_type": "stream",
     "text": [
      "      배치 79/110 처리 중... (10000개)\n"
     ]
    },
    {
     "name": "stderr",
     "output_type": "stream",
     "text": [
      "INFO:__main__:협업 관계 19914개 생성 완료\n"
     ]
    },
    {
     "name": "stdout",
     "output_type": "stream",
     "text": [
      "      배치 80/110 처리 중... (10000개)\n"
     ]
    },
    {
     "name": "stderr",
     "output_type": "stream",
     "text": [
      "INFO:__main__:협업 관계 19916개 생성 완료\n"
     ]
    },
    {
     "name": "stdout",
     "output_type": "stream",
     "text": [
      "      배치 81/110 처리 중... (10000개)\n"
     ]
    },
    {
     "name": "stderr",
     "output_type": "stream",
     "text": [
      "INFO:__main__:협업 관계 19922개 생성 완료\n"
     ]
    },
    {
     "name": "stdout",
     "output_type": "stream",
     "text": [
      "      배치 82/110 처리 중... (10000개)\n"
     ]
    },
    {
     "name": "stderr",
     "output_type": "stream",
     "text": [
      "INFO:__main__:협업 관계 19922개 생성 완료\n"
     ]
    },
    {
     "name": "stdout",
     "output_type": "stream",
     "text": [
      "      배치 83/110 처리 중... (10000개)\n"
     ]
    },
    {
     "name": "stderr",
     "output_type": "stream",
     "text": [
      "INFO:__main__:협업 관계 19908개 생성 완료\n"
     ]
    },
    {
     "name": "stdout",
     "output_type": "stream",
     "text": [
      "      배치 84/110 처리 중... (10000개)\n"
     ]
    },
    {
     "name": "stderr",
     "output_type": "stream",
     "text": [
      "INFO:__main__:협업 관계 19924개 생성 완료\n"
     ]
    },
    {
     "name": "stdout",
     "output_type": "stream",
     "text": [
      "      배치 85/110 처리 중... (10000개)\n"
     ]
    },
    {
     "name": "stderr",
     "output_type": "stream",
     "text": [
      "INFO:__main__:협업 관계 19914개 생성 완료\n"
     ]
    },
    {
     "name": "stdout",
     "output_type": "stream",
     "text": [
      "      배치 86/110 처리 중... (10000개)\n"
     ]
    },
    {
     "name": "stderr",
     "output_type": "stream",
     "text": [
      "INFO:__main__:협업 관계 19918개 생성 완료\n"
     ]
    },
    {
     "name": "stdout",
     "output_type": "stream",
     "text": [
      "      배치 87/110 처리 중... (10000개)\n"
     ]
    },
    {
     "name": "stderr",
     "output_type": "stream",
     "text": [
      "INFO:__main__:협업 관계 19926개 생성 완료\n"
     ]
    },
    {
     "name": "stdout",
     "output_type": "stream",
     "text": [
      "      배치 88/110 처리 중... (10000개)\n"
     ]
    },
    {
     "name": "stderr",
     "output_type": "stream",
     "text": [
      "INFO:__main__:협업 관계 19906개 생성 완료\n"
     ]
    },
    {
     "name": "stdout",
     "output_type": "stream",
     "text": [
      "      배치 89/110 처리 중... (10000개)\n"
     ]
    },
    {
     "name": "stderr",
     "output_type": "stream",
     "text": [
      "INFO:__main__:협업 관계 19908개 생성 완료\n"
     ]
    },
    {
     "name": "stdout",
     "output_type": "stream",
     "text": [
      "      배치 90/110 처리 중... (10000개)\n"
     ]
    },
    {
     "name": "stderr",
     "output_type": "stream",
     "text": [
      "INFO:__main__:협업 관계 19932개 생성 완료\n"
     ]
    },
    {
     "name": "stdout",
     "output_type": "stream",
     "text": [
      "      배치 91/110 처리 중... (10000개)\n"
     ]
    },
    {
     "name": "stderr",
     "output_type": "stream",
     "text": [
      "INFO:__main__:협업 관계 19918개 생성 완료\n"
     ]
    },
    {
     "name": "stdout",
     "output_type": "stream",
     "text": [
      "      배치 92/110 처리 중... (10000개)\n"
     ]
    },
    {
     "name": "stderr",
     "output_type": "stream",
     "text": [
      "INFO:__main__:협업 관계 19922개 생성 완료\n"
     ]
    },
    {
     "name": "stdout",
     "output_type": "stream",
     "text": [
      "      배치 93/110 처리 중... (10000개)\n"
     ]
    },
    {
     "name": "stderr",
     "output_type": "stream",
     "text": [
      "INFO:__main__:협업 관계 19920개 생성 완료\n"
     ]
    },
    {
     "name": "stdout",
     "output_type": "stream",
     "text": [
      "      배치 94/110 처리 중... (10000개)\n"
     ]
    },
    {
     "name": "stderr",
     "output_type": "stream",
     "text": [
      "INFO:__main__:협업 관계 19912개 생성 완료\n"
     ]
    },
    {
     "name": "stdout",
     "output_type": "stream",
     "text": [
      "      배치 95/110 처리 중... (10000개)\n"
     ]
    },
    {
     "name": "stderr",
     "output_type": "stream",
     "text": [
      "INFO:__main__:협업 관계 19914개 생성 완료\n"
     ]
    },
    {
     "name": "stdout",
     "output_type": "stream",
     "text": [
      "      배치 96/110 처리 중... (10000개)\n"
     ]
    },
    {
     "name": "stderr",
     "output_type": "stream",
     "text": [
      "INFO:__main__:협업 관계 19912개 생성 완료\n"
     ]
    },
    {
     "name": "stdout",
     "output_type": "stream",
     "text": [
      "      배치 97/110 처리 중... (10000개)\n"
     ]
    },
    {
     "name": "stderr",
     "output_type": "stream",
     "text": [
      "INFO:__main__:협업 관계 19928개 생성 완료\n"
     ]
    },
    {
     "name": "stdout",
     "output_type": "stream",
     "text": [
      "      배치 98/110 처리 중... (10000개)\n"
     ]
    },
    {
     "name": "stderr",
     "output_type": "stream",
     "text": [
      "INFO:__main__:협업 관계 19916개 생성 완료\n"
     ]
    },
    {
     "name": "stdout",
     "output_type": "stream",
     "text": [
      "      배치 99/110 처리 중... (10000개)\n"
     ]
    },
    {
     "name": "stderr",
     "output_type": "stream",
     "text": [
      "INFO:__main__:협업 관계 19912개 생성 완료\n"
     ]
    },
    {
     "name": "stdout",
     "output_type": "stream",
     "text": [
      "      배치 100/110 처리 중... (10000개)\n"
     ]
    },
    {
     "name": "stderr",
     "output_type": "stream",
     "text": [
      "INFO:__main__:협업 관계 19928개 생성 완료\n"
     ]
    },
    {
     "name": "stdout",
     "output_type": "stream",
     "text": [
      "      배치 101/110 처리 중... (10000개)\n"
     ]
    },
    {
     "name": "stderr",
     "output_type": "stream",
     "text": [
      "INFO:__main__:협업 관계 19932개 생성 완료\n"
     ]
    },
    {
     "name": "stdout",
     "output_type": "stream",
     "text": [
      "      배치 102/110 처리 중... (10000개)\n"
     ]
    },
    {
     "name": "stderr",
     "output_type": "stream",
     "text": [
      "INFO:__main__:협업 관계 19908개 생성 완료\n"
     ]
    },
    {
     "name": "stdout",
     "output_type": "stream",
     "text": [
      "      배치 103/110 처리 중... (10000개)\n"
     ]
    },
    {
     "name": "stderr",
     "output_type": "stream",
     "text": [
      "INFO:__main__:협업 관계 19916개 생성 완료\n"
     ]
    },
    {
     "name": "stdout",
     "output_type": "stream",
     "text": [
      "      배치 104/110 처리 중... (10000개)\n"
     ]
    },
    {
     "name": "stderr",
     "output_type": "stream",
     "text": [
      "INFO:__main__:협업 관계 19922개 생성 완료\n"
     ]
    },
    {
     "name": "stdout",
     "output_type": "stream",
     "text": [
      "      배치 105/110 처리 중... (10000개)\n"
     ]
    },
    {
     "name": "stderr",
     "output_type": "stream",
     "text": [
      "INFO:__main__:협업 관계 19926개 생성 완료\n"
     ]
    },
    {
     "name": "stdout",
     "output_type": "stream",
     "text": [
      "      배치 106/110 처리 중... (10000개)\n"
     ]
    },
    {
     "name": "stderr",
     "output_type": "stream",
     "text": [
      "INFO:__main__:협업 관계 19922개 생성 완료\n"
     ]
    },
    {
     "name": "stdout",
     "output_type": "stream",
     "text": [
      "      배치 107/110 처리 중... (10000개)\n"
     ]
    },
    {
     "name": "stderr",
     "output_type": "stream",
     "text": [
      "INFO:__main__:협업 관계 19910개 생성 완료\n"
     ]
    },
    {
     "name": "stdout",
     "output_type": "stream",
     "text": [
      "      배치 108/110 처리 중... (10000개)\n"
     ]
    },
    {
     "name": "stderr",
     "output_type": "stream",
     "text": [
      "INFO:__main__:협업 관계 19900개 생성 완료\n"
     ]
    },
    {
     "name": "stdout",
     "output_type": "stream",
     "text": [
      "      배치 109/110 처리 중... (10000개)\n"
     ]
    },
    {
     "name": "stderr",
     "output_type": "stream",
     "text": [
      "INFO:__main__:협업 관계 19918개 생성 완료\n"
     ]
    },
    {
     "name": "stdout",
     "output_type": "stream",
     "text": [
      "      배치 110/110 처리 중... (8084개)\n"
     ]
    },
    {
     "name": "stderr",
     "output_type": "stream",
     "text": [
      "INFO:__main__:협업 관계 16114개 생성 완료\n"
     ]
    },
    {
     "name": "stdout",
     "output_type": "stream",
     "text": [
      "   5-3. 프로젝트 참여 관계 138개 생성 중...\n"
     ]
    },
    {
     "name": "stderr",
     "output_type": "stream",
     "text": [
      "INFO:__main__:프로젝트 참여 관계 138개 생성 완료\n"
     ]
    },
    {
     "name": "stdout",
     "output_type": "stream",
     "text": [
      "6. 파생 관계 생성 중...\n"
     ]
    },
    {
     "name": "stderr",
     "output_type": "stream",
     "text": [
      "INFO:__main__:프로젝트 내 협업 관계 708개 생성 완료\n"
     ]
    },
    {
     "name": "stdout",
     "output_type": "stream",
     "text": [
      "7. 그래프 통계 확인 중...\n",
      "\n",
      "=== Neo4j 그래프 통계 ===\n",
      "  총 노드 수: 1,498\n",
      "  총 관계 수: 2,189,547\n",
      "  직원 노드 수: 1,470\n",
      "  부서 노드 수: 3\n",
      "  프로젝트 노드 수: 25\n",
      "  계층 관계 수: 295\n",
      "  협업 관계 수 (방향별): 2,186,936\n",
      "  협업 관계 수 (고유 쌍): 1,093,468\n",
      "  프로젝트 참여 관계 수: 138\n",
      "  프로젝트 내 협업 관계 수: 708\n",
      "  직원-부서 관계 수: 1,470\n",
      "\n",
      "✅ Neo4j 그래프 생성 완료!\n",
      "\n",
      "=== 데이터 무결성 검증 ===\n",
      "  ✅ 고아 직원 (부서 없음): 0\n",
      "  ❌ 매니저 역할 불일치: 검증 실패 - {code: Neo.ClientError.Statement.SyntaxError} {message: The property existence syntax `... exists(variable.property)` is no longer supported. Please use `variable.property IS NOT NULL` instead. (line 3, column 23 (offset: 72))\n",
      "\"            WHERE NOT exists(e.employee_id)\"\n",
      "                       ^}\n",
      "  ⚠️ 중복 협업 관계: 2,177,704\n",
      "\n",
      "🎯 그래프 생성 성공!\n",
      "Neo4j Browser에서 시각화를 확인하세요:\n",
      "http://localhost:7474\n"
     ]
    }
   ],
   "source": [
    "# ------------------------------------------------------\n",
    "# Neo4j 데이터베이스 생성 실행\n",
    "# ------------------------------------------------------\n",
    "\n",
    "def create_neo4j_graph(graph_data, neo4j_config):\n",
    "    \"\"\"전체 Neo4j 그래프 생성 프로세스\"\"\"\n",
    "    \n",
    "    neo4j_manager = None\n",
    "    \n",
    "    try:\n",
    "        # Neo4j 연결\n",
    "        neo4j_manager = Neo4jManager(\n",
    "            neo4j_config['uri'], \n",
    "            neo4j_config['username'], \n",
    "            neo4j_config['password']\n",
    "        )\n",
    "        \n",
    "        # 1. 데이터베이스 초기화\n",
    "        print(\"1. 기존 데이터 삭제 중...\")\n",
    "        neo4j_manager.clear_database()\n",
    "        \n",
    "        # 2. 제약조건 및 인덱스 생성\n",
    "        print(\"2. 제약조건 및 인덱스 생성 중...\")\n",
    "        neo4j_manager.create_constraints_and_indexes()\n",
    "        \n",
    "        # 3. 노드 생성\n",
    "        print(\"3. 노드 생성 중...\")\n",
    "        create_departments_nodes(neo4j_manager, graph_data['departments'])\n",
    "        create_employees_nodes(neo4j_manager, graph_data['employees'])\n",
    "        create_projects_nodes(neo4j_manager, graph_data['projects'])\n",
    "        \n",
    "        # 4. 기본 관계 생성 (직원-부서)\n",
    "        print(\"4. 기본 관계 생성 중...\")\n",
    "        create_employee_department_relationships(neo4j_manager)\n",
    "        \n",
    "        # 5. 조직 관계 생성\n",
    "        print(\"5. 조직 관계 생성 중...\")\n",
    "        \n",
    "        # 계층 관계 생성\n",
    "        if graph_data.get('hierarchy_relationships'):\n",
    "            print(f\"   5-1. 계층 관계 {len(graph_data['hierarchy_relationships'])}개 생성 중...\")\n",
    "            create_hierarchy_relationships(neo4j_manager, graph_data['hierarchy_relationships'])\n",
    "        \n",
    "        # 협업 관계 생성 (대용량 데이터 배치 처리)\n",
    "        if graph_data.get('collaboration_relationships'):\n",
    "            collab_data = graph_data['collaboration_relationships']\n",
    "            print(f\"   5-2. 협업 관계 {len(collab_data)}개 생성 중... (배치 처리)\")\n",
    "            \n",
    "            # 대용량 데이터를 배치로 나누어 처리\n",
    "            batch_size = 10000  # 10K씩 배치 처리\n",
    "            total_batches = (len(collab_data) + batch_size - 1) // batch_size\n",
    "            \n",
    "            for i in range(0, len(collab_data), batch_size):\n",
    "                batch = collab_data[i:i+batch_size]\n",
    "                batch_num = (i // batch_size) + 1\n",
    "                print(f\"      배치 {batch_num}/{total_batches} 처리 중... ({len(batch)}개)\")\n",
    "                \n",
    "                try:\n",
    "                    create_collaboration_relationships(neo4j_manager, batch)\n",
    "                except Exception as e:\n",
    "                    logger.warning(f\"배치 {batch_num} 처리 중 오류 발생: {str(e)}\")\n",
    "                    # 배치 실패 시 계속 진행\n",
    "                    continue\n",
    "        \n",
    "        # 프로젝트 참여 관계 생성\n",
    "        if graph_data.get('project_relationships'):\n",
    "            print(f\"   5-3. 프로젝트 참여 관계 {len(graph_data['project_relationships'])}개 생성 중...\")\n",
    "            create_project_participation_relationships(neo4j_manager, graph_data['project_relationships'])\n",
    "        \n",
    "        # 6. 파생 관계 생성 (프로젝트 내 협업)\n",
    "        print(\"6. 파생 관계 생성 중...\")\n",
    "        try:\n",
    "            create_project_collaboration_relationships(neo4j_manager)\n",
    "        except Exception as e:\n",
    "            logger.warning(f\"프로젝트 내 협업 관계 생성 실패: {str(e)}\")\n",
    "            print(\"   프로젝트 내 협업 관계 생성을 건너뜁니다.\")\n",
    "        \n",
    "        # 7. 생성된 그래프 통계\n",
    "        print(\"7. 그래프 통계 확인 중...\")\n",
    "        get_graph_statistics(neo4j_manager)\n",
    "        \n",
    "        print(\"\\n✅ Neo4j 그래프 생성 완료!\")\n",
    "        \n",
    "        return neo4j_manager\n",
    "        \n",
    "    except Exception as e:\n",
    "        logger.error(f\"Neo4j 그래프 생성 실패: {str(e)}\")\n",
    "        if neo4j_manager:\n",
    "            neo4j_manager.close()\n",
    "        raise\n",
    "\n",
    "def get_graph_statistics(neo4j_manager):\n",
    "    \"\"\"생성된 그래프의 통계 정보 조회\"\"\"\n",
    "    \n",
    "    statistics_queries = {\n",
    "        \"총 노드 수\": \"MATCH (n) RETURN count(n) as count\",\n",
    "        \"총 관계 수\": \"MATCH ()-[r]->() RETURN count(r) as count\",\n",
    "        \"직원 노드 수\": \"MATCH (e:Employee) RETURN count(e) as count\",\n",
    "        \"부서 노드 수\": \"MATCH (d:Department) RETURN count(d) as count\", \n",
    "        \"프로젝트 노드 수\": \"MATCH (p:Project) RETURN count(p) as count\",\n",
    "        \"계층 관계 수\": \"MATCH ()-[r:REPORTS_TO]->() RETURN count(r) as count\",\n",
    "        \"협업 관계 수 (방향별)\": \"MATCH ()-[r:COLLABORATES_WITH]->() RETURN count(r) as count\",\n",
    "        \"협업 관계 수 (고유 쌍)\": \"\"\"\n",
    "            MATCH (e1:Employee)-[r:COLLABORATES_WITH]->(e2:Employee)\n",
    "            WHERE e1.employee_id < e2.employee_id\n",
    "            RETURN count(r) as count\n",
    "        \"\"\",\n",
    "        \"프로젝트 참여 관계 수\": \"MATCH ()-[r:PARTICIPATES_IN]->() RETURN count(r) as count\",\n",
    "        \"프로젝트 내 협업 관계 수\": \"MATCH ()-[r:PROJECT_COLLEAGUE]->() RETURN count(r) as count\",\n",
    "        \"직원-부서 관계 수\": \"MATCH ()-[r:WORKS_IN]->() RETURN count(r) as count\"\n",
    "    }\n",
    "    \n",
    "    print(\"\\n=== Neo4j 그래프 통계 ===\")\n",
    "    \n",
    "    with neo4j_manager.driver.session() as session:\n",
    "        for description, query in statistics_queries.items():\n",
    "            try:\n",
    "                result = session.run(query)\n",
    "                count = result.single()[\"count\"]\n",
    "                print(f\"  {description}: {count:,}\")\n",
    "            except Exception as e:\n",
    "                print(f\"  {description}: 조회 실패 - {str(e)}\")\n",
    "\n",
    "def validate_graph_integrity(neo4j_manager):\n",
    "    \"\"\"그래프 데이터 무결성 검증\"\"\"\n",
    "    \n",
    "    validation_queries = {\n",
    "        \"고아 직원 (부서 없음)\": \"\"\"\n",
    "            MATCH (e:Employee)\n",
    "            WHERE NOT (e)-[:WORKS_IN]->(:Department)\n",
    "            RETURN count(e) as count\n",
    "        \"\"\",\n",
    "        \"매니저 역할 불일치\": \"\"\"\n",
    "            MATCH (e:Employee)<-[:REPORTS_TO]-()\n",
    "            WHERE NOT exists(e.employee_id)\n",
    "            RETURN count(e) as count\n",
    "        \"\"\",\n",
    "        \"중복 협업 관계\": \"\"\"\n",
    "            MATCH (e1:Employee)-[r1:COLLABORATES_WITH]->(e2:Employee),\n",
    "                  (e1)-[r2:COLLABORATES_WITH]->(e2)\n",
    "            WHERE id(r1) <> id(r2)\n",
    "            RETURN count(r1) as count\n",
    "        \"\"\"\n",
    "    }\n",
    "    \n",
    "    print(\"\\n=== 데이터 무결성 검증 ===\")\n",
    "    \n",
    "    with neo4j_manager.driver.session() as session:\n",
    "        for description, query in validation_queries.items():\n",
    "            try:\n",
    "                result = session.run(query)\n",
    "                count = result.single()[\"count\"]\n",
    "                status = \"⚠️\" if count > 0 else \"✅\"\n",
    "                print(f\"  {status} {description}: {count:,}\")\n",
    "            except Exception as e:\n",
    "                print(f\"  ❌ {description}: 검증 실패 - {str(e)}\")\n",
    "\n",
    "# Neo4j 그래프 생성 실행\n",
    "# 주의: 실제 Neo4j 서버가 실행 중이고, 올바른 인증 정보가 설정되어 있어야 합니다.\n",
    "\n",
    "try:\n",
    "    print(\"Neo4j 그래프 생성 시작...\")\n",
    "    print(f\"Neo4j 서버: {NEO4J_CONFIG['uri']}\")\n",
    "    print(f\"처리 대상 데이터:\")\n",
    "    print(f\"  - 직원: {len(graph_data['employees']):,}명\")\n",
    "    print(f\"  - 부서: {len(graph_data['departments']):,}개\")  \n",
    "    print(f\"  - 프로젝트: {len(graph_data['projects']):,}개\")\n",
    "    print(f\"  - 계층관계: {len(graph_data['hierarchy_relationships']):,}개\")\n",
    "    print(f\"  - 협업관계: {len(graph_data['collaboration_relationships']):,}개\")\n",
    "    print(f\"  - 프로젝트참여: {len(graph_data['project_relationships']):,}개\")\n",
    "    print(\"-\" * 60)\n",
    "    \n",
    "    # 실제 실행\n",
    "    neo4j_manager = create_neo4j_graph(graph_data, NEO4J_CONFIG)\n",
    "    \n",
    "    # 추가 검증\n",
    "    if neo4j_manager:\n",
    "        validate_graph_integrity(neo4j_manager)\n",
    "        \n",
    "        print(\"\\n🎯 그래프 생성 성공!\")\n",
    "        print(\"Neo4j Browser에서 시각화를 확인하세요:\")\n",
    "        print(\"http://localhost:7474\")\n",
    "    \n",
    "except Exception as e:\n",
    "    print(f\"\\n❌ Neo4j 연결 실패: {str(e)}\")\n",
    "    print(\"\\n해결 방법:\")\n",
    "    print(\"1. Neo4j Desktop 또는 Community Server가 실행 중인지 확인\")\n",
    "    print(\"2. 연결 정보(URI, username, password)가 올바른지 확인\")\n",
    "    print(\"3. 방화벽에서 7687 포트가 열려있는지 확인\")\n",
    "    print(\"4. 메모리 부족 시 협업 관계 배치 크기 줄이기 (batch_size = 5000)\")\n",
    "    print(\"\\n설정을 확인한 후 다시 실행하세요.\")\n",
    "    neo4j_manager = None"
   ]
  },
  {
   "cell_type": "markdown",
   "id": "36190b32",
   "metadata": {},
   "source": [
    "셀 6: Neo4j 쿼리 예시들"
   ]
  },
  {
   "cell_type": "code",
   "execution_count": 18,
   "id": "5cf40dce",
   "metadata": {},
   "outputs": [
    {
     "name": "stdout",
     "output_type": "stream",
     "text": [
      "=== Neo4j 쿼리 예시 실행 ===\n",
      "\n",
      "📊 고위험 직원 조회:\n",
      "e.employee_id        e.name           e.department             e.job_role                   e.persona\n",
      "            1    Employee_1                  Sales        Sales Executive Onboarding Failure (온보딩 실패)\n",
      "         1001 Employee_1001 Research & Development  Laboratory Technician Onboarding Failure (온보딩 실패)\n",
      "         1002 Employee_1002 Research & Development  Laboratory Technician          Burnout (저성과자/번아웃)\n",
      "         1003 Employee_1003                  Sales        Sales Executive          Burnout (저성과자/번아웃)\n",
      "         1004 Employee_1004 Research & Development     Research Scientist          Burnout (저성과자/번아웃)\n",
      "         1005 Employee_1005 Research & Development Manufacturing Director          Burnout (저성과자/번아웃)\n",
      "         1006 Employee_1006 Research & Development     Research Scientist Onboarding Failure (온보딩 실패)\n",
      "         1007 Employee_1007 Research & Development Manufacturing Director Onboarding Failure (온보딩 실패)\n",
      "          101  Employee_101 Research & Development      Research Director          Burnout (저성과자/번아웃)\n",
      "         1011 Employee_1011 Research & Development Manufacturing Director Onboarding Failure (온보딩 실패)\n",
      "\n",
      "--------------------------------------------------------------------------------\n",
      "\n",
      "📊 관리자별 부하직원 수:\n",
      "manager_id  manager_name             department  subordinate_count\n",
      "       986  Employee_986                  Sales                  7\n",
      "       661  Employee_661 Research & Development                  7\n",
      "      1263 Employee_1263 Research & Development                  7\n",
      "      1595 Employee_1595 Research & Development                  7\n",
      "      1029 Employee_1029                  Sales                  6\n",
      "       575  Employee_575 Research & Development                  6\n",
      "      1644 Employee_1644 Research & Development                  6\n",
      "       226  Employee_226 Research & Development                  5\n",
      "       568  Employee_568                  Sales                  5\n",
      "      1676 Employee_1676                  Sales                  5\n",
      "\n",
      "--------------------------------------------------------------------------------\n",
      "\n",
      "📊 부서별 협업 네트워크 밀도:\n",
      "                  dept  emp_count  collab_count  density\n",
      "                 Sales        446        783960    7.900\n",
      "Research & Development        961       3575332    7.751\n",
      "       Human Resources         63         14580    7.465\n",
      "\n",
      "--------------------------------------------------------------------------------\n",
      "\n",
      "📊 가장 활발한 협업자:\n",
      "e.employee_id        e.name           e.department  collaboration_count  avg_strength\n",
      "          605  Employee_605 Research & Development                 3830         0.800\n",
      "         1392 Employee_1392 Research & Development                 3828         0.872\n",
      "          124  Employee_124 Research & Development                 3828         0.793\n",
      "          624  Employee_624 Research & Development                 3828         0.797\n",
      "          899  Employee_899 Research & Development                 3828         0.797\n",
      "         1043 Employee_1043 Research & Development                 3828         0.799\n",
      "          717  Employee_717 Research & Development                 3828         0.790\n",
      "          126  Employee_126 Research & Development                 3828         0.784\n",
      "          623  Employee_623 Research & Development                 3828         0.797\n",
      "         1397 Employee_1397 Research & Development                 3828         0.792\n",
      "\n",
      "--------------------------------------------------------------------------------\n",
      "\n",
      "📊 프로젝트별 팀 구성:\n",
      "p.project_id  p.project_name    p.project_type                                       team_members\n",
      "     PRJ_001 Project_PRJ_001 single_department [{'name': 'Employee_184', 'contribution': 0.555...\n",
      "     PRJ_002 Project_PRJ_002 single_department [{'name': 'Employee_54', 'contribution': 0.889,...\n",
      "     PRJ_003 Project_PRJ_003  cross_department [{'name': 'Employee_842', 'contribution': 0.57,...\n",
      "     PRJ_004 Project_PRJ_004 single_department [{'name': 'Employee_379', 'contribution': 0.915...\n",
      "     PRJ_005 Project_PRJ_005 single_department [{'name': 'Employee_195', 'contribution': 0.917...\n",
      "\n",
      "--------------------------------------------------------------------------------\n",
      "\n",
      "📊 위험 직원의 관계 네트워크:\n",
      "employee_id        name                     persona  manager_name                          top_colleagues active_projects\n",
      "          1  Employee_1 Onboarding Failure (온보딩 실패)          None [Employee_23, Employee_27, Employee_35]              []\n",
      "          4  Employee_4          Burnout (저성과자/번아웃)          None    [Employee_2, Employee_5, Employee_7]              []\n",
      "          5  Employee_5          Burnout (저성과자/번아웃)          None    [Employee_2, Employee_4, Employee_7]              []\n",
      "         13 Employee_13 Onboarding Failure (온보딩 실패)          None    [Employee_2, Employee_4, Employee_5]              []\n",
      "         14 Employee_14 Onboarding Failure (온보딩 실패)          None    [Employee_2, Employee_4, Employee_5]              []\n",
      "         20 Employee_20 Onboarding Failure (온보딩 실패) Employee_1719    [Employee_2, Employee_4, Employee_5]              []\n",
      "         21 Employee_21          Burnout (저성과자/번아웃)          None    [Employee_2, Employee_4, Employee_5]              []\n",
      "         22 Employee_22 Onboarding Failure (온보딩 실패)          None    [Employee_2, Employee_4, Employee_5]              []\n",
      "         26 Employee_26 Onboarding Failure (온보딩 실패)          None    [Employee_2, Employee_4, Employee_5]              []\n",
      "         31 Employee_31 Onboarding Failure (온보딩 실패)          None    [Employee_2, Employee_4, Employee_5]              []\n",
      "\n",
      "--------------------------------------------------------------------------------\n",
      "\n",
      "\n",
      "=== Cognita 에이전트 특화 쿼리 ===\n",
      "\n",
      "🔍 사회적 고립 직원 탐지:\n",
      "   결과 없음\n",
      "\n",
      "🔍 관리자 변경이 필요한 팀 탐지:\n",
      "manager.employee_id  manager.name     manager.department  total_subs  high_risk_count  risk_ratio\n",
      "               1644 Employee_1644 Research & Development           3                3         1.0\n",
      "                661  Employee_661 Research & Development           4                4         1.0\n",
      "               1770 Employee_1770 Research & Development           2                2         1.0\n",
      "               1472 Employee_1472 Research & Development           3                3         1.0\n",
      "                505  Employee_505 Research & Development           2                2         1.0\n",
      "\n",
      "🔍 프로젝트 위험도 분석:\n",
      "p.project_id  p.project_name  p.status  total_members  high_risk_count  project_risk_ratio\n",
      "     PRJ_024 Project_PRJ_024    active              4                4                1.00\n",
      "     PRJ_025 Project_PRJ_025 completed              5                4                0.80\n",
      "     PRJ_002 Project_PRJ_002    active              5                4                0.80\n",
      "     PRJ_004 Project_PRJ_004    active              7                5                0.71\n",
      "     PRJ_011 Project_PRJ_011    active              3                2                0.67\n"
     ]
    }
   ],
   "source": [
    "# ------------------------------------------------------\n",
    "# Neo4j 쿼리 예시들 (그래프 활용)\n",
    "# ------------------------------------------------------\n",
    "\n",
    "def run_sample_queries(neo4j_manager):\n",
    "    \"\"\"Neo4j 그래프 쿼리 예시 실행\"\"\"\n",
    "    \n",
    "    if not neo4j_manager:\n",
    "        print(\"Neo4j 연결이 없습니다. 먼저 그래프를 생성하세요.\")\n",
    "        return\n",
    "    \n",
    "    sample_queries = {\n",
    "        \"고위험 직원 조회\": \"\"\"\n",
    "            MATCH (e:Employee)\n",
    "            WHERE e.risk_tier = 'High'\n",
    "            RETURN e.employee_id, e.name, e.department, e.job_role, e.persona\n",
    "            ORDER BY e.employee_id\n",
    "            LIMIT 10\n",
    "        \"\"\",\n",
    "        \n",
    "        \"관리자별 부하직원 수\": \"\"\"\n",
    "            MATCH (manager:Employee)<-[:REPORTS_TO]-(subordinate:Employee)\n",
    "            RETURN manager.employee_id as manager_id, \n",
    "                   manager.name as manager_name,\n",
    "                   manager.department as department,\n",
    "                   count(subordinate) as subordinate_count\n",
    "            ORDER BY subordinate_count DESC\n",
    "            LIMIT 10\n",
    "        \"\"\",\n",
    "        \n",
    "        \"부서별 협업 네트워크 밀도\": \"\"\"\n",
    "            MATCH (e1:Employee)-[:COLLABORATES_WITH]-(e2:Employee)\n",
    "            WHERE e1.department = e2.department\n",
    "            WITH e1.department as dept, count(*) as collab_count\n",
    "            MATCH (emp:Employee)\n",
    "            WHERE emp.department = dept\n",
    "            WITH dept, collab_count, count(emp) as emp_count\n",
    "            RETURN dept, emp_count, collab_count,\n",
    "                   round(toFloat(collab_count) / (emp_count * (emp_count - 1) / 2), 3) as density\n",
    "            ORDER BY density DESC\n",
    "        \"\"\",\n",
    "        \n",
    "        \"가장 활발한 협업자\": \"\"\"\n",
    "            MATCH (e:Employee)-[r:COLLABORATES_WITH]-()\n",
    "            RETURN e.employee_id, e.name, e.department, \n",
    "                   count(r) as collaboration_count,\n",
    "                   round(avg(r.collaboration_strength), 3) as avg_strength\n",
    "            ORDER BY collaboration_count DESC\n",
    "            LIMIT 10\n",
    "        \"\"\",\n",
    "        \n",
    "        \"프로젝트별 팀 구성\": \"\"\"\n",
    "            MATCH (p:Project)<-[rel:PARTICIPATES_IN]-(e:Employee)\n",
    "            WHERE p.status = 'active'\n",
    "            RETURN p.project_id, p.project_name, p.project_type,\n",
    "                   collect({\n",
    "                       employee_id: e.employee_id, \n",
    "                       name: e.name, \n",
    "                       role: rel.role_in_project,\n",
    "                       contribution: rel.contribution_level\n",
    "                   }) as team_members\n",
    "            ORDER BY p.project_id\n",
    "            LIMIT 5\n",
    "        \"\"\",\n",
    "        \n",
    "        \"위험 직원의 관계 네트워크\": \"\"\"\n",
    "            MATCH (high_risk:Employee {risk_tier: 'High'})\n",
    "            OPTIONAL MATCH (high_risk)-[r1:REPORTS_TO]->(manager)\n",
    "            OPTIONAL MATCH (high_risk)-[r2:COLLABORATES_WITH]-(colleague)\n",
    "            OPTIONAL MATCH (high_risk)-[r3:PARTICIPATES_IN]->(project)\n",
    "            RETURN high_risk.employee_id as employee_id,\n",
    "                   high_risk.name as name,\n",
    "                   high_risk.persona as persona,\n",
    "                   manager.name as manager_name,\n",
    "                   collect(DISTINCT colleague.name)[0..3] as top_colleagues,\n",
    "                   collect(DISTINCT project.project_id)[0..3] as active_projects\n",
    "            LIMIT 10\n",
    "        \"\"\"\n",
    "    }\n",
    "    \n",
    "    print(\"=== Neo4j 쿼리 예시 실행 ===\\n\")\n",
    "    \n",
    "    with neo4j_manager.driver.session() as session:\n",
    "        for query_name, query in sample_queries.items():\n",
    "            try:\n",
    "                print(f\"📊 {query_name}:\")\n",
    "                result = session.run(query)\n",
    "                records = list(result)\n",
    "                \n",
    "                if records:\n",
    "                    # 결과를 DataFrame으로 변환하여 보기 좋게 출력\n",
    "                    df_result = pd.DataFrame([record.data() for record in records])\n",
    "                    print(df_result.to_string(index=False, max_colwidth=50))\n",
    "                else:\n",
    "                    print(\"   결과 없음\")\n",
    "                    \n",
    "                print(\"\\n\" + \"-\"*80 + \"\\n\")\n",
    "                \n",
    "            except Exception as e:\n",
    "                print(f\"   쿼리 실행 실패: {str(e)}\\n\")\n",
    "\n",
    "def create_cypher_queries_for_cognita():\n",
    "    \"\"\"Cognita 에이전트용 특화 쿼리들\"\"\"\n",
    "    \n",
    "    cognita_queries = {\n",
    "        \"사회적 고립 직원 탐지\": \"\"\"\n",
    "            MATCH (e:Employee)\n",
    "            OPTIONAL MATCH (e)-[c:COLLABORATES_WITH]-()\n",
    "            WITH e, count(c) as collab_count\n",
    "            WHERE collab_count <= 2\n",
    "            RETURN e.employee_id, e.name, e.department, e.risk_tier, collab_count\n",
    "            ORDER BY collab_count, e.risk_tier DESC\n",
    "        \"\"\",\n",
    "        \n",
    "        \"관리자 변경이 필요한 팀 탐지\": \"\"\"\n",
    "            MATCH (manager:Employee)<-[:REPORTS_TO]-(sub:Employee)\n",
    "            WHERE sub.risk_tier = 'High'\n",
    "            WITH manager, count(sub) as high_risk_count, count(*) as total_subs\n",
    "            WHERE high_risk_count >= 2\n",
    "            RETURN manager.employee_id, manager.name, manager.department,\n",
    "                   total_subs, high_risk_count,\n",
    "                   round(toFloat(high_risk_count)/total_subs, 2) as risk_ratio\n",
    "            ORDER BY risk_ratio DESC\n",
    "        \"\"\",\n",
    "        \n",
    "        \"프로젝트 위험도 분석\": \"\"\"\n",
    "            MATCH (p:Project)<-[:PARTICIPATES_IN]-(e:Employee)\n",
    "            WITH p, \n",
    "                 sum(CASE WHEN e.risk_tier = 'High' THEN 1 ELSE 0 END) as high_risk_count,\n",
    "                 count(e) as total_members\n",
    "            WHERE total_members > 0\n",
    "            RETURN p.project_id, p.project_name, p.status,\n",
    "                   total_members, high_risk_count,\n",
    "                   round(toFloat(high_risk_count)/total_members, 2) as project_risk_ratio\n",
    "            ORDER BY project_risk_ratio DESC\n",
    "        \"\"\"\n",
    "    }\n",
    "    \n",
    "    return cognita_queries\n",
    "\n",
    "# 쿼리 예시 실행 (Neo4j 연결이 있을 때만)\n",
    "if 'neo4j_manager' in locals() and neo4j_manager:\n",
    "    run_sample_queries(neo4j_manager)\n",
    "    \n",
    "    print(\"\\n=== Cognita 에이전트 특화 쿼리 ===\")\n",
    "    cognita_queries = create_cypher_queries_for_cognita()\n",
    "    \n",
    "    with neo4j_manager.driver.session() as session:\n",
    "        for query_name, query in cognita_queries.items():\n",
    "            try:\n",
    "                print(f\"\\n🔍 {query_name}:\")\n",
    "                result = session.run(query)\n",
    "                records = list(result)\n",
    "                \n",
    "                if records:\n",
    "                    df_result = pd.DataFrame([record.data() for record in records])\n",
    "                    print(df_result.head().to_string(index=False))\n",
    "                else:\n",
    "                    print(\"   결과 없음\")\n",
    "                    \n",
    "            except Exception as e:\n",
    "                print(f\"   쿼리 실행 실패: {str(e)}\")\n",
    "else:\n",
    "    print(\"Neo4j 연결이 없어 쿼리 예시를 건너뜁니다.\")\n",
    "    print(\"연결 설정 후 이 셀을 다시 실행하세요.\")"
   ]
  },
  {
   "cell_type": "markdown",
   "id": "fe756cf9",
   "metadata": {},
   "source": [
    "셀 7: Neo4j Browser 연동 및 시각화 가이드"
   ]
  },
  {
   "cell_type": "code",
   "execution_count": 19,
   "id": "19823202",
   "metadata": {},
   "outputs": [
    {
     "name": "stdout",
     "output_type": "stream",
     "text": [
      "=== Neo4j Browser 시각화 가이드 ===\n",
      "\n",
      "1. Neo4j Browser 접속:\n",
      "   http://localhost:7474 (기본 주소)\n",
      "   username: neo4j\n",
      "   password: [설정한 비밀번호]\n",
      "\n",
      "2. 아래 쿼리들을 복사해서 Neo4j Browser에서 실행하세요:\n",
      "\n",
      "🎨 전체 조직 구조 (샘플):\n",
      "```cypher\n",
      "// 한 부서의 계층 구조 시각화\n",
      "            MATCH (e:Employee)-[:WORKS_IN]->(d:Department {name: 'Sales'})\n",
      "            OPTIONAL MATCH (e)-[r:REPORTS_TO]->(manager)\n",
      "            RETURN e, r, manager, d\n",
      "            LIMIT 20\n",
      "```\n",
      "\n",
      "🎨 고위험 직원과 그 관계:\n",
      "```cypher\n",
      "// 고위험 직원과 연결된 모든 관계\n",
      "            MATCH (high_risk:Employee {risk_tier: 'High'})\n",
      "            OPTIONAL MATCH (high_risk)-[r1]-(connected)\n",
      "            RETURN high_risk, r1, connected\n",
      "            LIMIT 50\n",
      "```\n",
      "\n",
      "🎨 프로젝트 협업 네트워크:\n",
      "```cypher\n",
      "// 특정 프로젝트의 팀원과 그들의 협업 관계\n",
      "            MATCH (p:Project {status: 'active'})<-[:PARTICIPATES_IN]-(e:Employee)\n",
      "            OPTIONAL MATCH (e)-[c:COLLABORATES_WITH]-(colleague)-[:PARTICIPATES_IN]->(p)\n",
      "            RETURN p, e, c, colleague\n",
      "            LIMIT 30\n",
      "```\n",
      "\n",
      "🎨 부서간 협업 네트워크:\n",
      "```cypher\n",
      "// 서로 다른 부서 직원들 간의 협업 관계\n",
      "            MATCH (e1:Employee)-[:WORKS_IN]->(d1:Department)\n",
      "            MATCH (e2:Employee)-[:WORKS_IN]->(d2:Department)\n",
      "            MATCH (e1)-[c:COLLABORATES_WITH]-(e2)\n",
      "            WHERE d1 <> d2 AND c.collaboration_strength > 0.6\n",
      "            RETURN e1, e2, c, d1, d2\n",
      "            LIMIT 25\n",
      "```\n",
      "\n",
      "🎨 위험 전파 경로 분석:\n",
      "```cypher\n",
      "// 고위험 직원으로부터 2단계 이내의 관계\n",
      "            MATCH (high_risk:Employee {risk_tier: 'High'})\n",
      "            MATCH path = (high_risk)-[*1..2]-(connected:Employee)\n",
      "            WHERE connected.risk_tier IN ['High', 'Neutral']\n",
      "            RETURN path\n",
      "            LIMIT 40\n",
      "```\n",
      "\n",
      "3. 시각화 팁:\n",
      "   - 노드 크기: 직급(job_level) 또는 위험도(risk_tier)에 따라 조정\n",
      "   - 노드 색상: 부서별 또는 위험등급별로 구분\n",
      "   - 관계 두께: 협업 강도(collaboration_strength)에 따라 조정\n",
      "   - 레이아웃: Force-directed 또는 Hierarchical 레이아웃 사용\n",
      "\n",
      "=== Neo4j 그래프 생성 완료 ===\n",
      "✅ 총 1470명의 직원 데이터가 Neo4j에 저장되었습니다.\n",
      "✅ 계층관계, 협업관계, 프로젝트 참여 관계가 모두 생성되었습니다.\n",
      "\n",
      "🌐 Neo4j Browser에서 그래프를 시각적으로 탐색해보세요:\n",
      "   http://localhost:7474\n"
     ]
    }
   ],
   "source": [
    "# ------------------------------------------------------\n",
    "# Neo4j Browser 시각화 가이드\n",
    "# ------------------------------------------------------\n",
    "\n",
    "def generate_visualization_queries():\n",
    "    \"\"\"Neo4j Browser에서 사용할 시각화 쿼리들\"\"\"\n",
    "    \n",
    "    viz_queries = {\n",
    "        \"전체 조직 구조 (샘플)\": \"\"\"\n",
    "            // 한 부서의 계층 구조 시각화\n",
    "            MATCH (e:Employee)-[:WORKS_IN]->(d:Department {name: 'Sales'})\n",
    "            OPTIONAL MATCH (e)-[r:REPORTS_TO]->(manager)\n",
    "            RETURN e, r, manager, d\n",
    "            LIMIT 20\n",
    "        \"\"\",\n",
    "        \n",
    "        \"고위험 직원과 그 관계\": \"\"\"\n",
    "            // 고위험 직원과 연결된 모든 관계\n",
    "            MATCH (high_risk:Employee {risk_tier: 'High'})\n",
    "            OPTIONAL MATCH (high_risk)-[r1]-(connected)\n",
    "            RETURN high_risk, r1, connected\n",
    "            LIMIT 50\n",
    "        \"\"\",\n",
    "        \n",
    "        \"프로젝트 협업 네트워크\": \"\"\"\n",
    "            // 특정 프로젝트의 팀원과 그들의 협업 관계\n",
    "            MATCH (p:Project {status: 'active'})<-[:PARTICIPATES_IN]-(e:Employee)\n",
    "            OPTIONAL MATCH (e)-[c:COLLABORATES_WITH]-(colleague)-[:PARTICIPATES_IN]->(p)\n",
    "            RETURN p, e, c, colleague\n",
    "            LIMIT 30\n",
    "        \"\"\",\n",
    "        \n",
    "        \"부서간 협업 네트워크\": \"\"\"\n",
    "            // 서로 다른 부서 직원들 간의 협업 관계\n",
    "            MATCH (e1:Employee)-[:WORKS_IN]->(d1:Department)\n",
    "            MATCH (e2:Employee)-[:WORKS_IN]->(d2:Department)\n",
    "            MATCH (e1)-[c:COLLABORATES_WITH]-(e2)\n",
    "            WHERE d1 <> d2 AND c.collaboration_strength > 0.6\n",
    "            RETURN e1, e2, c, d1, d2\n",
    "            LIMIT 25\n",
    "        \"\"\",\n",
    "        \n",
    "        \"위험 전파 경로 분석\": \"\"\"\n",
    "            // 고위험 직원으로부터 2단계 이내의 관계\n",
    "            MATCH (high_risk:Employee {risk_tier: 'High'})\n",
    "            MATCH path = (high_risk)-[*1..2]-(connected:Employee)\n",
    "            WHERE connected.risk_tier IN ['High', 'Neutral']\n",
    "            RETURN path\n",
    "            LIMIT 40\n",
    "        \"\"\"\n",
    "    }\n",
    "    \n",
    "    print(\"=== Neo4j Browser 시각화 가이드 ===\\n\")\n",
    "    \n",
    "    print(\"1. Neo4j Browser 접속:\")\n",
    "    print(\"   http://localhost:7474 (기본 주소)\")\n",
    "    print(\"   username: neo4j\")\n",
    "    print(\"   password: [설정한 비밀번호]\\n\")\n",
    "    \n",
    "    print(\"2. 아래 쿼리들을 복사해서 Neo4j Browser에서 실행하세요:\\n\")\n",
    "    \n",
    "    for name, query in viz_queries.items():\n",
    "        print(f\"🎨 {name}:\")\n",
    "        print(\"```cypher\")\n",
    "        print(query.strip())\n",
    "        print(\"```\\n\")\n",
    "    \n",
    "    print(\"3. 시각화 팁:\")\n",
    "    print(\"   - 노드 크기: 직급(job_level) 또는 위험도(risk_tier)에 따라 조정\")\n",
    "    print(\"   - 노드 색상: 부서별 또는 위험등급별로 구분\")\n",
    "    print(\"   - 관계 두께: 협업 강도(collaboration_strength)에 따라 조정\")\n",
    "    print(\"   - 레이아웃: Force-directed 또는 Hierarchical 레이아웃 사용\")\n",
    "    \n",
    "    return viz_queries\n",
    "\n",
    "# 시각화 쿼리 생성\n",
    "viz_queries = generate_visualization_queries()\n",
    "\n",
    "# Neo4j 연결 정리\n",
    "if 'neo4j_manager' in locals() and neo4j_manager:\n",
    "    print(f\"\\n=== Neo4j 그래프 생성 완료 ===\")\n",
    "    print(f\"✅ 총 {len(graph_data['employees'])}명의 직원 데이터가 Neo4j에 저장되었습니다.\")\n",
    "    print(f\"✅ 계층관계, 협업관계, 프로젝트 참여 관계가 모두 생성되었습니다.\")\n",
    "    print(f\"\\n🌐 Neo4j Browser에서 그래프를 시각적으로 탐색해보세요:\")\n",
    "    print(f\"   http://localhost:7474\")\n",
    "    \n",
    "    # 필요한 경우 연결 종료\n",
    "    # neo4j_manager.close()\n",
    "else:\n",
    "    print(\"\\n⚠️  Neo4j 연결 설정을 완료한 후 다시 실행하세요.\")\n",
    "    print(\"   1. Neo4j 서버 실행\")\n",
    "    print(\"   2. 인증 정보 수정\")\n",
    "    print(\"   3. 코드 재실행\")"
   ]
  },
  {
   "cell_type": "markdown",
   "id": "c3dbaadf",
   "metadata": {},
   "source": []
  }
 ],
 "metadata": {
  "kernelspec": {
   "display_name": "nlp",
   "language": "python",
   "name": "python3"
  },
  "language_info": {
   "codemirror_mode": {
    "name": "ipython",
    "version": 3
   },
   "file_extension": ".py",
   "mimetype": "text/x-python",
   "name": "python",
   "nbconvert_exporter": "python",
   "pygments_lexer": "ipython3",
   "version": "3.10.14"
  }
 },
 "nbformat": 4,
 "nbformat_minor": 5
}

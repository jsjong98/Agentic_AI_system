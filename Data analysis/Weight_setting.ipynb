version https://git-lfs.github.com/spec/v1
oid sha256:1ff51b5d4db2d8c0bd98e05a29fda96a0cac716eeb866a5a198a9db9d9b3d1cd
size 45112
